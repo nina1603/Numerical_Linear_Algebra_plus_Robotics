{
 "cells": [
  {
   "cell_type": "markdown",
   "metadata": {
    "id": "t9v1vX4-OGIT"
   },
   "source": [
    "# Problem set 2 (35 + 55 + 15 + 28 = 133 pts)"
   ]
  },
  {
   "cell_type": "markdown",
   "metadata": {
    "id": "FOMNJ4TcOGIV"
   },
   "source": [
    "## Problem 1 (LU decomposition) 35 pts\n"
   ]
  },
  {
   "cell_type": "markdown",
   "metadata": {
    "id": "pYHDl6ppOGIV"
   },
   "source": [
    "### 1. LU for band matrices (7 pts)\n",
    "\n",
    "The complexity to find an LU decomposition of a dense $n\\times n$ matrix is $\\mathcal{O}(n^3)$.\n",
    "Significant reduction in complexity can be achieved if the matrix has a certain structure, e.g. it is sparse. \n",
    "In the following task we consider an important example of $LU$ for a special type of sparse matrices –– band matrices with the bandwidth $m$ equal to 3 or 5 which called tridiagonal and pentadiagonal respectively.\n",
    "\n",
    "- (5 pts) Write a function ```band_lu(diag_broadcast, n)``` which computes LU decomposition for tridiagonal or pentadiagonal matrix with given diagonal values. \n",
    "For example, input parametres ```(diag_broadcast = [4,-2,1], n = 4)``` mean that we need to find LU decomposition for the triangular matrix of the form:\n",
    "\n",
    "$$A = \\begin{pmatrix}\n",
    "-2 & 1 & 0 & 0\\\\\n",
    "4 & -2 & 1 & 0 \\\\\n",
    "0 & 4 & -2 & 1 \\\\\n",
    "0 & 0 & 4 & -2 \\\\\n",
    "\\end{pmatrix}.$$\n",
    "\n",
    "As an output it is considered to make ```L``` and ```U``` - 2D arrays representing diagonals in factors $L$ (```L[0]``` keeps first lower diagonal, ```L[1]``` keeps second lower, ...), and $U$ (```U[:,0]``` keeps main diagonal, ```U[:,1]``` keeps first upper, ...)."
   ]
  },
  {
   "cell_type": "code",
   "execution_count": 1,
   "metadata": {},
   "outputs": [],
   "source": [
    "from scipy.sparse import diags # can be used with broadcasting of scalars if desired dimensions are large\n",
    "import numpy as np\n",
    "from scipy.linalg import lu\n",
    "import matplotlib.pyplot as plt\n",
    "%matplotlib inline"
   ]
  },
  {
   "cell_type": "code",
   "execution_count": 43,
   "metadata": {},
   "outputs": [],
   "source": [
    "#How diags work\n",
    "\n",
    "#diags([1, -2, 1], [-1, 0, 1], shape=(4, 4)).toarray()\n",
    "\n",
    "#diagonals = [[1, 2, 3, 4], [1, 2, 3], [1, 2]]\n",
    "#diags(diagonals, [0, -1, 2]).toarray()"
   ]
  },
  {
   "cell_type": "code",
   "execution_count": 2,
   "metadata": {},
   "outputs": [],
   "source": [
    "#We will need it for time comparison\n",
    "\n",
    "def get_matrix(diag_broadcast, n):\n",
    "    if len(diag_broadcast) == 3:\n",
    "        return diags(diag_broadcast, [-1, 0, 1], shape=(n, n)).toarray()\n",
    "    else:\n",
    "        #diagonals = [[diag_broadcast[0]], [diag_broadcast[1]], [diag_broadcast[2]], \\\n",
    "        #             [diag_broadcast[3]], [diag_broadcast[4]]]\n",
    "        return diags(diag_broadcast, [-2, -1, 0, 1, 2], shape=(n, n)).toarray()"
   ]
  },
  {
   "cell_type": "code",
   "execution_count": 3,
   "metadata": {
    "id": "BvY7icWBOGIW"
   },
   "outputs": [],
   "source": [
    "# INPUT : diag_broadcast - list of diagonals value to broadcast,length equal to 3 or 5;\n",
    "# n - integer, band matrix shape.\n",
    "# OUTPUT : L - 2D np.ndarray, L.shape[0] depends on bandwidth, L.shape[1] = n-1, do not store main diagonal,\n",
    "# where all ones;                  \n",
    "# add zeros to the right side of rows to handle with changing length of diagonals.\n",
    "#          U - 2D np.ndarray, U.shape[0] = n, U.shape[1] depends on bandwidth;\n",
    "#              add zeros to the bottom of columns to handle with changing length of diagonals.\n",
    "\n",
    "def band_lu(diag_broadcast, n):\n",
    "    if (len(diag_broadcast) == 3):\n",
    "        #tridiagonal\n",
    "        L = np.zeros((n-1))\n",
    "        U = np.zeros((n, 2))\n",
    "        U[0:n-1, 1] = diag_broadcast[2] #since the upper diag size is n-1\n",
    "        U[0, 0] = diag_broadcast[1]\n",
    "        for i in range(1, n):\n",
    "            L[i-1] = diag_broadcast[0] / U[i-1, 0]\n",
    "            U[i, 0] = diag_broadcast[1] - L[i-1]*diag_broadcast[2]\n",
    "            if (U[i, 0] == 0):\n",
    "                print('Not strictly regular matrix, so no LU!')\n",
    "                return\n",
    "    \n",
    "    if (len(diag_broadcast) == 5):\n",
    "        #pentadiagonal\n",
    "        L = np.zeros((2, n-1))\n",
    "        U = np.zeros((n, 3))\n",
    "        U[0, 0] = diag_broadcast[2]\n",
    "        U[0, 1] = diag_broadcast[3]\n",
    "        L[0, 0] = diag_broadcast[1] / diag_broadcast[2]\n",
    "        U[0:n-2, 2] = diag_broadcast[4]\n",
    "        for i in range(1, n):\n",
    "            if (i > 1):\n",
    "                if (U[i-1, 0] == 0):\n",
    "                    print('Not strictly regular matrix, so no LU!')\n",
    "                    return\n",
    "                L[0, i-1] = (diag_broadcast[1] - L[1, i-2] * U[i-2, 1]) / U[i-1, 0]\n",
    "            L[1, i-1] = diag_broadcast[0] / U[i-1, 0]\n",
    "            U[i, 0] = diag_broadcast[2] - L[1, i-2]*U[i-2, 2] - L[0, i-1] * U[i-1, 1]\n",
    "            U[i, 1] = diag_broadcast[3] - L[0, i-1] * U[i-1, 2]\n",
    "            \n",
    "            if (i >= n-1):\n",
    "                U[i, 1] = 0\n",
    "                L[1, i-1] = 0\n",
    "    return L, U"
   ]
  },
  {
   "cell_type": "code",
   "execution_count": 5,
   "metadata": {},
   "outputs": [],
   "source": [
    "#Checking correctness\n",
    "\n",
    "#print(band_lu([1, -2, 1], n = 4))\n",
    "\n",
    "#A = get_matrix([1, -2, 1], n = 4)\n",
    "#l, u = lu(A, permute_l=True)\n",
    "#print('L\\n', l)\n",
    "#print('U\\n', u)"
   ]
  },
  {
   "cell_type": "code",
   "execution_count": 41,
   "metadata": {},
   "outputs": [],
   "source": [
    "#Checking correctness\n",
    "\n",
    "#print(band_lu([1, -1, 2, -1, 1], n = 6))\n",
    "\n",
    "#A = get_matrix([1, -1, 2, -1, 1], n = 6)\n",
    "#l, u = lu(A, permute_l=True)\n",
    "#print('L\\n', l)\n",
    "#print('U\\n', u)\n",
    "\n",
    "#Example of wrong matrix:\n",
    "#A = get_matrix([4, -2, 1], n = 4)\n",
    "#print(band_lu([4, -2, 1], n = 4))"
   ]
  },
  {
   "cell_type": "markdown",
   "metadata": {},
   "source": [
    "- (2 pts) Compare execution time of the band LU decomposition using standard function from ```scipy```, i.e. which takes the whole matrix and does not know about its special structure, and band decomposition of yours implementation. Comment on the results."
   ]
  },
  {
   "cell_type": "code",
   "execution_count": 4,
   "metadata": {},
   "outputs": [
    {
     "name": "stdout",
     "output_type": "stream",
     "text": [
      "Time for tridiagonal matrices:\n",
      "36.5 µs ± 8.09 µs per loop (mean ± std. dev. of 7 runs, 10000 loops each)\n",
      "115 µs ± 12.4 µs per loop (mean ± std. dev. of 7 runs, 10000 loops each)\n",
      "144 µs ± 8.8 µs per loop (mean ± std. dev. of 7 runs, 10000 loops each)\n",
      "380 µs ± 153 µs per loop (mean ± std. dev. of 7 runs, 1000 loops each)\n",
      "281 µs ± 14.8 µs per loop (mean ± std. dev. of 7 runs, 1000 loops each)\n",
      "The slowest run took 10.23 times longer than the fastest. This could mean that an intermediate result is being cached.\n",
      "1.14 ms ± 1.02 ms per loop (mean ± std. dev. of 7 runs, 100 loops each)\n",
      "1.46 ms ± 97.4 µs per loop (mean ± std. dev. of 7 runs, 1000 loops each)\n",
      "12.8 ms ± 138 µs per loop (mean ± std. dev. of 7 runs, 100 loops each)\n",
      "2.53 ms ± 48.4 µs per loop (mean ± std. dev. of 7 runs, 100 loops each)\n",
      "53.1 ms ± 871 µs per loop (mean ± std. dev. of 7 runs, 10 loops each)\n",
      "3.82 ms ± 175 µs per loop (mean ± std. dev. of 7 runs, 100 loops each)\n",
      "152 ms ± 2.9 ms per loop (mean ± std. dev. of 7 runs, 10 loops each)\n",
      "6.26 ms ± 77.7 µs per loop (mean ± std. dev. of 7 runs, 100 loops each)\n",
      "581 ms ± 50.7 ms per loop (mean ± std. dev. of 7 runs, 1 loop each)\n",
      "Time for pentadiagonal matrices:\n",
      "57.9 µs ± 575 ns per loop (mean ± std. dev. of 7 runs, 10000 loops each)\n",
      "64.9 µs ± 3.79 µs per loop (mean ± std. dev. of 7 runs, 10000 loops each)\n",
      "308 µs ± 4.16 µs per loop (mean ± std. dev. of 7 runs, 1000 loops each)\n",
      "166 µs ± 4.26 µs per loop (mean ± std. dev. of 7 runs, 10000 loops each)\n",
      "590 µs ± 4.43 µs per loop (mean ± std. dev. of 7 runs, 1000 loops each)\n",
      "346 µs ± 7.99 µs per loop (mean ± std. dev. of 7 runs, 1000 loops each)\n",
      "3.1 ms ± 184 µs per loop (mean ± std. dev. of 7 runs, 100 loops each)\n",
      "9.06 ms ± 207 µs per loop (mean ± std. dev. of 7 runs, 100 loops each)\n",
      "6.1 ms ± 67.9 µs per loop (mean ± std. dev. of 7 runs, 100 loops each)\n",
      "44.7 ms ± 1.51 ms per loop (mean ± std. dev. of 7 runs, 10 loops each)\n",
      "10.6 ms ± 676 µs per loop (mean ± std. dev. of 7 runs, 100 loops each)\n",
      "130 ms ± 2.63 ms per loop (mean ± std. dev. of 7 runs, 10 loops each)\n",
      "15.6 ms ± 411 µs per loop (mean ± std. dev. of 7 runs, 10 loops each)\n",
      "558 ms ± 5.95 ms per loop (mean ± std. dev. of 7 runs, 1 loop each)\n"
     ]
    }
   ],
   "source": [
    "time_3_band = np.zeros(7)\n",
    "time_3_scipy = np.zeros(7)\n",
    "time_5_band = np.zeros(7)\n",
    "time_5_scipy = np.zeros(7)\n",
    "n = [10, 50, 100, 500, 1000, 1500, 2500]\n",
    "\n",
    "#count time for tridiagonal matrix\n",
    "print('Time for tridiagonal matrices:')\n",
    "for i in range(len(n)):\n",
    "    t = %timeit -o band_lu([1, -2, 1], n = n[i])\n",
    "    time_3_band[i] = t.average\n",
    "    A = get_matrix([1, -2, 1], n = n[i])\n",
    "    t = %timeit -o lu(A, permute_l=True)\n",
    "    time_3_scipy[i] = t.average\n",
    "\n",
    "print('Time for pentadiagonal matrices:')\n",
    "for i in range(len(n)):\n",
    "    t = %timeit -o band_lu([1, 1, 2, -1, 1], n = n[i])\n",
    "    time_5_band[i] = t.average\n",
    "    A = get_matrix([1, 1, 2, -1, 1], n = n[i])\n",
    "    t = %timeit -o lu(A, permute_l=True)\n",
    "    time_5_scipy[i] = t.average"
   ]
  },
  {
   "cell_type": "code",
   "execution_count": 5,
   "metadata": {},
   "outputs": [
    {
     "data": {
      "text/plain": [
       "Text(0.5, 0, 'n')"
      ]
     },
     "execution_count": 5,
     "metadata": {},
     "output_type": "execute_result"
    },
    {
     "data": {
      "image/png": "[encoded data removed]",
      "text/plain": [
       "<Figure size 1080x432 with 2 Axes>"
      ]
     },
     "metadata": {
      "needs_background": "light"
     },
     "output_type": "display_data"
    }
   ],
   "source": [
    "import matplotlib\n",
    "matplotlib.rcParams['text.usetex'] = False\n",
    "\n",
    "f, (ax1, ax2) = plt.subplots(1, 2, sharey=True, figsize = (15, 6))\n",
    "\n",
    "ax1.plot(n, time_3_band, label=\"Band_lu\")\n",
    "ax1.plot(n, time_3_scipy, label=\"Scipy_lu\")\n",
    "ax1.legend()\n",
    "ax1.set_yscale(\"log\")\n",
    "ax1.grid(True)\n",
    "ax1.set_title(\"Time computing LU for tridiagonal matrix of size n\")\n",
    "_ = plt.yticks(fontsize=18)\n",
    "ax1.set_ylabel(\"Time\")\n",
    "ax1.set_xlabel(\"n\")\n",
    "\n",
    "ax2.plot(n, time_5_band, label=\"Band_lu\")\n",
    "ax2.plot(n, time_5_scipy, label=\"Scipy_lu\")\n",
    "ax2.legend()\n",
    "ax2.set_yscale(\"log\")\n",
    "ax2.grid(True)\n",
    "ax2.set_title(\"Time computing LU for pentadiagonal matrix of size n\")\n",
    "_ = plt.yticks(fontsize=18)\n",
    "ax2.set_ylabel(\"Time\")\n",
    "ax2.set_xlabel(\"n\")"
   ]
  },
  {
   "cell_type": "markdown",
   "metadata": {},
   "source": [
    "##### From the plots it can be seen that in both cases, our realization works faster than scipy realization. \n",
    "##### For the small $n$ scipy realization works similarly or even faster which could mean that scipy uses quite effective implementation of LU decomposition. Nevertheless, with the increase of $n$ the difference becomes more and more significant.\n",
    "\n",
    "##### It may be caused by the fact that we apriori know the matrix structure and thus, work only with $O(n)$ elements of the matrix, not wasting time on useless computations with $O(n^2)$ elements like scipy realization does, because it is general for any type of matrices including dense matrices.\n",
    "##### In general, Band_lu realuzation depends linearly on $n$ (can be easily seen from implementation), whereas for scipy realization time grows non-linearly."
   ]
  },
  {
   "cell_type": "markdown",
   "metadata": {
    "id": "_iM6NwHQOGId"
   },
   "source": [
    "### 2. Stability of LU (8 pts)\n",
    "\n",
    "Let\n",
    "$A = \\begin{pmatrix}\n",
    "\\varepsilon & 1 & 0\\\\\n",
    "1 & 1 & 1 \\\\\n",
    "0 & 1 & 1\n",
    "\\end{pmatrix}.$ \n",
    "* (5 pts) Find analytically LU decomposition with and without pivoting for the matrix $A$."
   ]
  },
  {
   "cell_type": "markdown",
   "metadata": {},
   "source": [
    "### Without pivoting\n",
    "\n",
    "$L_1^{-1}A = \n",
    "\\begin{pmatrix}\n",
    "1 & 0 & 0\\\\\n",
    "-\\dfrac{1}{\\varepsilon} & 1 & 0 \\\\\n",
    "0 & 0 & 1\n",
    "\\end{pmatrix} $\n",
    "$\\cdot \n",
    "\\begin{pmatrix}\n",
    "\\varepsilon & 1 & 0\\\\\n",
    "1 & 1 & 1 \\\\\n",
    "0 & 1 & 1\n",
    "\\end{pmatrix} = \n",
    "\\begin{pmatrix}\n",
    "\\varepsilon & 1 & 0\\\\\n",
    "0 & 1 - \\dfrac{1}{\\varepsilon} & 1 \\\\\n",
    "0 & 1 & 1\n",
    "\\end{pmatrix}$\n",
    "\n",
    "$U = L_2^{-1} L_1^{-1}A = \n",
    "\\begin{pmatrix}\n",
    "1 & 0 & 0\\\\\n",
    "0 & 1 & 0 \\\\\n",
    "0 & -\\dfrac{\\varepsilon}{\\varepsilon-1} & 1\n",
    "\\end{pmatrix}\n",
    "\\cdot\n",
    "\\begin{pmatrix}\n",
    "\\varepsilon & 1 & 0\\\\\n",
    "0 & 1 - \\dfrac{1}{\\varepsilon} & 1 \\\\\n",
    "0 & 1 & 1\n",
    "\\end{pmatrix} = \n",
    "$$\n",
    "\\begin{pmatrix}\n",
    "\\varepsilon & 1 & 0\\\\\n",
    "0 & 1 - \\dfrac{1}{\\varepsilon} & 1 \\\\\n",
    "0 & 0 & -\\dfrac{1}{\\varepsilon-1}\n",
    "\\end{pmatrix}\n",
    "$\n",
    "\n",
    "$\n",
    "L = L_1 L_2 = \n",
    "\\begin{pmatrix}\n",
    "1 & 0 & 0\\\\\n",
    "-\\dfrac{1}{\\varepsilon} & 1 & 0 \\\\\n",
    "0 & 0 & 1\n",
    "\\end{pmatrix}^{-1}\n",
    "\\begin{pmatrix}\n",
    "1 & 0 & 0\\\\\n",
    "0 & 1 & 0 \\\\\n",
    "0 & -\\dfrac{\\varepsilon}{\\varepsilon-1} & 1\n",
    "\\end{pmatrix}^{-1} =\n",
    "\\begin{pmatrix}\n",
    "1 & 0 & 0\\\\\n",
    "\\dfrac{1}{\\varepsilon} & 1 & 0 \\\\\n",
    "0 & 0 & 1\n",
    "\\end{pmatrix}\n",
    "\\begin{pmatrix}\n",
    "1 & 0 & 0\\\\\n",
    "0 & 1 & 0 \\\\\n",
    "0 & \\dfrac{\\varepsilon}{\\varepsilon-1} & 1\n",
    "\\end{pmatrix} = \n",
    "\\begin{pmatrix}\n",
    "1 & 0 & 0\\\\\n",
    "\\dfrac{1}{\\varepsilon} & 1 & 0 \\\\\n",
    "0 & \\dfrac{\\varepsilon}{\\varepsilon-1} & 1\n",
    "\\end{pmatrix}$\n",
    "\n",
    "$\n",
    "A = \n",
    "\\begin{pmatrix}\n",
    "1 & 0 & 0\\\\\n",
    "\\dfrac{1}{\\varepsilon} & 1 & 0 \\\\\n",
    "0 & \\dfrac{\\varepsilon}{\\varepsilon-1} & 1\n",
    "\\end{pmatrix}\n",
    "\\cdot\n",
    "\\begin{pmatrix}\n",
    "\\varepsilon & 1 & 0\\\\\n",
    "0 & \\dfrac{\\varepsilon - 1}{\\varepsilon} & 1 \\\\\n",
    "0 & 0 & -\\dfrac{1}{\\varepsilon-1}\n",
    "\\end{pmatrix}\n",
    "$"
   ]
  },
  {
   "cell_type": "markdown",
   "metadata": {},
   "source": [
    "### With pivoting\n",
    "\n",
    "##### To do pivoting, we need to permute rows (or columns) of our matrix A in order to maximize diagonal elements $A_{ii}$ that we divide over. Let us consider possible cases:\n",
    "##### - $\\varepsilon \\geq 1$ - then we leave A as it is and straightly go to the next step (look at 'Without pivoting')\n",
    "##### - $\\varepsilon < 1$ - then we have to perform pivoting, which means, exchange rows 1 and 2 in our matrix. Now we get the following:\n",
    "$\n",
    "A = \\begin{pmatrix}\n",
    "\\varepsilon & 1 & 0\\\\\n",
    "1 & 1 & 1 \\\\\n",
    "0 & 1 & 1\n",
    "\\end{pmatrix}\n",
    "\\Rightarrow A_{P} = \\begin{pmatrix}\n",
    "1 & 1 & 1 \\\\\n",
    "\\varepsilon & 1 & 0\\\\\n",
    "0 & 1 & 1\n",
    "\\end{pmatrix}.$\n",
    "##### and the permutation matrix $P$ in our case:\n",
    "$P = \\begin{pmatrix}\n",
    "0 & 1 & 0 \\\\\n",
    "1 & 0 & 0\\\\\n",
    "0 & 0 & 1\n",
    "\\end{pmatrix},$\n",
    "$A = \\begin{pmatrix}\n",
    "0 & 1 & 0 \\\\\n",
    "1 & 0 & 0\\\\\n",
    "0 & 0 & 1\n",
    "\\end{pmatrix}\n",
    "\\cdot \\begin{pmatrix}\n",
    "1 & 1 & 1 \\\\\n",
    "\\varepsilon & 1 & 0\\\\\n",
    "0 & 1 & 1\n",
    "\\end{pmatrix}$\n",
    "\n",
    "##### Let's now find LU for matrix $A_{P}$.\n",
    "$\n",
    "L_{1}^{-1} A_{P} = \n",
    "\\begin{pmatrix}\n",
    "1 & 0 & 0 \\\\\n",
    "-\\varepsilon & 1 & 0\\\\\n",
    "0 & 0 & 1\n",
    "\\end{pmatrix}\n",
    "\\cdot \\begin{pmatrix}\n",
    "1 & 1 & 1 \\\\\n",
    "\\varepsilon & 1 & 0\\\\\n",
    "0 & 1 & 1\n",
    "\\end{pmatrix}=\n",
    "\\begin{pmatrix}\n",
    "1 & 1 & 1 \\\\\n",
    "0 & 1-\\varepsilon & -\\varepsilon\\\\\n",
    "0 & 1 & 1\n",
    "\\end{pmatrix}\n",
    "$\n",
    "\n",
    "\n",
    "$\n",
    "U = L_{2}^{-1} L_{1}^{-1} A_{P} =\n",
    "\\begin{pmatrix}\n",
    "1 & 0 & 0 \\\\\n",
    "0 & 1 & 0\\\\\n",
    "0 & -\\dfrac{1}{1-\\varepsilon} & 1\n",
    "\\end{pmatrix}\n",
    "\\cdot\n",
    "\\begin{pmatrix}\n",
    "1 & 1 & 1 \\\\\n",
    "0 & 1-\\varepsilon & -\\varepsilon\\\\\n",
    "0 & 1 & 1\n",
    "\\end{pmatrix}= \n",
    "\\begin{pmatrix}\n",
    "1 & 1 & 1 \\\\\n",
    "0 & 1-\\varepsilon & -\\varepsilon\\\\\n",
    "0 & 0 & \\dfrac{1}{1-\\varepsilon}\n",
    "\\end{pmatrix}\n",
    "$\n",
    "\n",
    "$\n",
    "L = L_{1} L_{2} =\n",
    "\\begin{pmatrix}\n",
    "1 & 0 & 0 \\\\\n",
    "\\varepsilon & 1 & 0\\\\\n",
    "0 & 0 & 1\n",
    "\\end{pmatrix}\n",
    "\\cdot\n",
    "\\begin{pmatrix}\n",
    "1 & 0 & 0 \\\\\n",
    "0 & 1 & 0\\\\\n",
    "0 & \\dfrac{1}{1-\\varepsilon} & 1\n",
    "\\end{pmatrix}=\n",
    "\\begin{pmatrix}\n",
    "1 & 0 & 0 \\\\\n",
    "\\varepsilon & 1 & 0\\\\\n",
    "0 & \\dfrac{1}{1-\\varepsilon} & 1\n",
    "\\end{pmatrix}\n",
    "$\n",
    "\n",
    "$\n",
    "A = \n",
    "\\begin{pmatrix}\n",
    "0 & 1 & 0 \\\\\n",
    "1 & 0 & 0\\\\\n",
    "0 & 0 & 1\n",
    "\\end{pmatrix}\n",
    "\\cdot\n",
    "\\begin{pmatrix}\n",
    "1 & 0 & 0 \\\\\n",
    "\\varepsilon & 1 & 0\\\\\n",
    "0 & \\dfrac{1}{1-\\varepsilon} & 1\n",
    "\\end{pmatrix}\n",
    "\\cdot\n",
    "\\begin{pmatrix}\n",
    "1 & 1 & 1 \\\\\n",
    "0 & 1-\\varepsilon & -\\varepsilon\\\\\n",
    "0 & 0 & \\dfrac{1}{1-\\varepsilon}\n",
    "\\end{pmatrix}\n",
    "$"
   ]
  },
  {
   "cell_type": "markdown",
   "metadata": {
    "id": "CmkB9hxwOGId"
   },
   "source": [
    "* (3 pts) Explain, why can the LU decomposition fail to approximate factors $L$ and $U$ for $|\\varepsilon|\\ll 1$ in computer arithmetic?\n",
    "\n",
    "##### Because if $\\varepsilon$ is really close to $0$ and it is a diagonal element, then we have to divide other elements over a small number and get huge numbers. For example, we'll have $\\dfrac{1}{\\varepsilon}$ in $L$ - really large number.\n",
    "##### But some operations concerning, for example, summation or division of both huge and small numbers work incorrectly and the precision of small numbers is lost during such operations. This leads to numerically unstable solutions $x$ if we substitute resulting matrices $L$ and $U$ into the system $Ax = b$ as $Ly = b, y = Ux$"
   ]
  },
  {
   "cell_type": "markdown",
   "metadata": {
    "id": "EQwdRJSIOGIg"
   },
   "source": [
    "### 3. Block LU (10 pts)\n",
    "\n",
    "Let $A = \\begin{bmatrix} A_{11} & A_{12} \\\\ A_{21} & A_{22} \\end{bmatrix}$ be a block matrix. The goal is to solve the linear system\n",
    "\n",
    "$$\n",
    "     \\begin{bmatrix} A_{11} & A_{12} \\\\ A_{21} & A_{22} \\end{bmatrix} \\begin{bmatrix} u_1 \\\\ u_2 \\end{bmatrix} = \\begin{bmatrix} f_1 \\\\ f_2 \\end{bmatrix}.\n",
    "$$"
   ]
  },
  {
   "cell_type": "markdown",
   "metadata": {},
   "source": [
    "* (2 pts) Using block elimination find matrix $S$ and right-hand side $\\hat{f_2}$ so that $u_2$ can be found from $S u_2 = \\hat{f_2}$. Note that the matrix $S$ is called <font color='red'> Schur complement </font> of the block $A_{11}$.\n",
    "\n",
    "##### First, for conviniency, let us rename a matrix:\n",
    "$A = \\begin{bmatrix} A_{11} & A_{12} \\\\ A_{21} & A_{22} \\end{bmatrix} \\Rightarrow M = \\begin{bmatrix} A & B \\\\ C & D \\end{bmatrix}$\n",
    "##### and define sizes of blocks as $p \\times p$ (for $A$), $p \\times q$ (for $B$), $q \\times p$ (for $C$), $q \\times q$ (for $D$).\n",
    "##### Now, let's decompose our block matrix $M$. Suppose, we have such LU-factorization of blocks:\n",
    "$ \\begin{bmatrix} A \\\\ C \\end{bmatrix} = \\begin{bmatrix} L_1 \\\\ L_2 \\end{bmatrix} U_{1}$\n",
    "\n",
    "$ L_1 U_2 = B$\n",
    "##### Then, we can rewrite $M$ as:\n",
    "$M = \\begin{bmatrix}\n",
    "A & B \\\\\n",
    "C & D \n",
    "\\end{bmatrix} =\n",
    "\\begin{bmatrix} L_1 & 0 \\\\\n",
    "L_2 & I_{q-p}\n",
    "\\end{bmatrix}\n",
    "\\begin{bmatrix}\n",
    "I_p & 0 \\\\ 0 & \\tilde{A}\n",
    "\\end{bmatrix}\n",
    "\\begin{bmatrix}\n",
    "U_1 & U_2 \\\\ \n",
    "0 & I_{q-p} \n",
    "\\end{bmatrix} =\n",
    "\\begin{bmatrix}\n",
    "L_1 U_1 & L_1 U_2 \\\\ \n",
    "L_2 U_1 & L_2 U_2 + \\tilde{A} \n",
    "\\end{bmatrix}$\n",
    "##### where  $\\tilde{A} = D - L_2 U_2 = D - C A^{-1} B$ - is what is called Schur complement of the block $A$ of matrix $M$ (assuming that $A$ is non-singular).\n",
    "##### Now, let's multiple $M$ from the left  and from the right to lower-triangular matrices:\n",
    "$M F_1 = \n",
    "\\begin{bmatrix}\n",
    "A & B \\\\\n",
    "C & D \n",
    "\\end{bmatrix}\n",
    "\\begin{bmatrix}\n",
    "I_p & -A^{-1}B \\\\\n",
    "0 & I_q \n",
    "\\end{bmatrix} = \n",
    "\\begin{bmatrix}\n",
    "A & 0 \\\\\n",
    "C & D - CA^{-1}B \n",
    "\\end{bmatrix}$\n",
    "\n",
    "$F_2 M F_1 =\n",
    "\\begin{bmatrix}\n",
    "I_p & 0 \\\\\n",
    "-CA^{-1} & I_q\n",
    "\\end{bmatrix}\n",
    "\\begin{bmatrix}\n",
    "A & 0 \\\\\n",
    "C & D - CA^{-1}B \n",
    "\\end{bmatrix} =\n",
    "\\begin{bmatrix}\n",
    "A & 0 \\\\\n",
    "0 & D - CA^{-1}B \n",
    "\\end{bmatrix} = T$\n",
    "\n",
    "##### Then,\n",
    "$M = F_2^{-1} T F_1^{-1}$\n",
    "\n",
    "$F_2^{-1} T F_1^{-1} \\begin{bmatrix} u_1 \\\\ u_2 \\end{bmatrix} = \\begin{bmatrix} f_1 \\\\ f_2 \\end{bmatrix}$\n",
    "\n",
    "$T F_1^{-1} \\begin{bmatrix} u_1 \\\\ u_2 \\end{bmatrix} = F_2 \\begin{bmatrix} f_1 \\\\ f_2 \\end{bmatrix},$\n",
    "##### where\n",
    "$F_1^{-1} = \n",
    "\\begin{bmatrix}\n",
    "I_p & A^{-1}B \\\\\n",
    "0 & I_q \n",
    "\\end{bmatrix}$\n",
    "##### And now, we get:\n",
    "$\\begin{bmatrix}\n",
    "A & 0 \\\\\n",
    "0 & D - CA^{-1}B \n",
    "\\end{bmatrix}\n",
    "\\begin{bmatrix}\n",
    "I_p & A^{-1}B \\\\\n",
    "0 & I_q \n",
    "\\end{bmatrix}\n",
    "\\begin{bmatrix} u_1 \\\\ u_2 \\end{bmatrix} = \n",
    "\\begin{bmatrix}\n",
    "I_p & 0 \\\\\n",
    "-CA^{-1} & I_q\n",
    "\\end{bmatrix}\n",
    "\\begin{bmatrix} f_1 \\\\ f_2 \\end{bmatrix}\n",
    "$\n",
    "\n",
    "$\\begin{bmatrix}\n",
    "A & 0 \\\\\n",
    "0 & D - CA^{-1}B \n",
    "\\end{bmatrix}\n",
    "\\begin{bmatrix} u_1 - A^{-1}B u_2 \\\\ u_2 \\end{bmatrix} = \n",
    "\\begin{bmatrix} f_1 \\\\ -CA^{-1}f_1 + f_2 \\end{bmatrix}\n",
    "$\n",
    "##### Therefore, we get:\n",
    "$S \\ u_2 = \\hat{f_2}$,\n",
    "##### where $S = D - CA^{-1}B$ and $\\hat{f_2} =  -CA^{-1}f_1 + f_2$"
   ]
  },
  {
   "cell_type": "markdown",
   "metadata": {},
   "source": [
    "* (4 pts) Using Schur complement properties prove that \n",
    "\n",
    "$$\\det(X+AB) = \\det(X)\\det(I+BX^{-1}A), $$\n",
    "\n",
    "\n",
    "where $X$ - nonsingular square matrix.\n",
    "\n",
    "##### We will use the fact that:\n",
    "$det \\begin{bmatrix}\n",
    "A & B \\\\\n",
    "0 & C\n",
    "\\end{bmatrix} = \n",
    "det \\begin{bmatrix}\n",
    "A & 0 \\\\\n",
    "B & C\n",
    "\\end{bmatrix} = det(A) det(C)$\n",
    "##### and the general property that $det(AB) = det(A) det(B).$\n",
    "\n",
    "##### Consider such matrix:\n",
    "$M = \\begin{bmatrix}\n",
    "X & A \\\\\n",
    "-B & I\n",
    "\\end{bmatrix}$\n",
    "\n",
    "##### First, let's find its determinant. To do it we have to convert it to lower triangular or upper triangular form.\n",
    "$\\begin{bmatrix}\n",
    "I & -A \\\\\n",
    "0 & I\n",
    "\\end{bmatrix}\n",
    "\\cdot\n",
    "\\begin{bmatrix}\n",
    "X & A \\\\\n",
    "-B & I\n",
    "\\end{bmatrix} = \n",
    "\\begin{bmatrix}\n",
    "X + AB & 0 \\\\\n",
    "-B & I\n",
    "\\end{bmatrix}$\n",
    "\n",
    "##### Here, the equality of determinants looks as follows:\n",
    "$det(I) \\cdot det(M) = det(X+AB) \\Rightarrow det(M) = det(X+AB).$\n",
    "\n",
    "##### Next, according to the Schur complement, let us do the following transformations:\n",
    "$\\begin{bmatrix}\n",
    "X & A \\\\\n",
    "-B & I\n",
    "\\end{bmatrix}\n",
    "\\cdot\n",
    "\\begin{bmatrix}\n",
    "I & -X^{-1}A \\\\\n",
    "0 & I\n",
    "\\end{bmatrix} = \n",
    "\\begin{bmatrix}\n",
    "X & 0 \\\\\n",
    "-B & BX^{-1}A + I\n",
    "\\end{bmatrix}$\n",
    "\n",
    "##### And here, the equality of determinants looks as follows:\n",
    "$det(M) \\cdot det(I) = det(X) det(BX^{-1}A + I) \\Rightarrow det(M) = det(X) det(BX^{-1}A + I)$\n",
    "##### Therefore,\n",
    "$det(X+AB) = det(X) det(BX^{-1}A + I)$"
   ]
  },
  {
   "cell_type": "markdown",
   "metadata": {},
   "source": [
    "* (4 pts) Let matrix $F \\in \\mathbb{R}^{m \\times n}$ and $G \\in \\mathbb{R}^{n \\times m}$. Prove that \n",
    "\n",
    "$$\\det(I_m - FG) = \\det(I_n - GF).$$\n",
    "\n",
    "##### Similarly to the previous task, consider the following matrix:\n",
    "$M = \\begin{bmatrix}\n",
    "I_m & F \\\\\n",
    "G & I_n\n",
    "\\end{bmatrix}$\n",
    "\n",
    "##### First,\n",
    "$\\begin{bmatrix}\n",
    "I_m & F \\\\\n",
    "G & I_n\n",
    "\\end{bmatrix}\n",
    "\\cdot\n",
    "\\begin{bmatrix}\n",
    "I_m & -F \\\\\n",
    "0 & I_n\n",
    "\\end{bmatrix} =\n",
    "\\begin{bmatrix}\n",
    "I_m & 0 \\\\\n",
    "G & I_n - GF\n",
    "\\end{bmatrix}$\n",
    "\n",
    "$det(M) \\cdot det(I) = det(I)det(I_n - GF) \\Rightarrow det(M) = det(I_n - GF)$\n",
    "\n",
    "##### Second,\n",
    "$\\begin{bmatrix}\n",
    "I_m & -F \\\\\n",
    "0 & I_n\n",
    "\\end{bmatrix}\n",
    "\\cdot\n",
    "\\begin{bmatrix}\n",
    "I_m & F \\\\\n",
    "G & I_n\n",
    "\\end{bmatrix} = \n",
    "\\begin{bmatrix}\n",
    "I_m - FG & 0 \\\\\n",
    "G & I_n\n",
    "\\end{bmatrix}$\n",
    "\n",
    "$det(I) \\cdot det(M) = det(I_m - FG) det(I) \\Rightarrow det(M) = det(I_m - FG)$\n",
    "\n",
    "##### And finally,\n",
    "$det(I_n - GF) = det(I_m - FG)$"
   ]
  },
  {
   "cell_type": "markdown",
   "metadata": {
    "id": "YFc3BR_TOGIj"
   },
   "source": [
    "### 4. Efficient implementation of LU decomposition (10 pts)\n",
    "\n",
    "In the lecture we provide naive implementation of LU factorization with loops and elementwise update of factors. In this subproblem we ask you to provide more efficient implementation of LU factorization and explain how you derive this implementation (main ideas and how you use them in this particular case). \n",
    "\n",
    "NumPy or JAX are both ok in this subproblem, but please use the single library for all implementations. "
   ]
  },
  {
   "cell_type": "markdown",
   "metadata": {},
   "source": [
    "- (1 pts) Main idea for speed up computation of LU factorization (without using built-in function!)\n",
    "\n",
    "##### Let's implement LU-factorization using Doolittle algorithm: express matrices $L$ and $U$ explicitly instead of computing in a cycle."
   ]
  },
  {
   "cell_type": "markdown",
   "metadata": {},
   "source": [
    "- (4 pts) Implement the presented approach to speed up LU "
   ]
  },
  {
   "cell_type": "code",
   "execution_count": 2,
   "metadata": {},
   "outputs": [],
   "source": [
    "import jax.numpy as jnp\n",
    "import jax\n",
    "import scipy\n",
    "from jax.config import config\n",
    "config.update(\"jax_enable_x64\", True)"
   ]
  },
  {
   "cell_type": "code",
   "execution_count": 3,
   "metadata": {},
   "outputs": [],
   "source": [
    "def my_lu(A):\n",
    "    n, _ = A.shape\n",
    "    \n",
    "    L = np.zeros((n, n))\n",
    "    for i in range(0,n):\n",
    "        L[i][i] = 1\n",
    "    U = np.zeros((n, n))\n",
    "    \n",
    "    for i in range(n):\n",
    "        U[i, i:] = A[i, i:] - L[i,:i] @ U[:i,i:]\n",
    "        L[(i + 1):, i] = (A[(i + 1):, i] - L[(i + 1):, :] @ U[:, i]) / U[i, i] \n",
    "    return L, U"
   ]
  },
  {
   "cell_type": "markdown",
   "metadata": {},
   "source": [
    "- (1 pts) Illustrate numerically that your implementation is correct"
   ]
  },
  {
   "cell_type": "code",
   "execution_count": 4,
   "metadata": {},
   "outputs": [
    {
     "name": "stdout",
     "output_type": "stream",
     "text": [
      "49.3 µs ± 11.7 µs per loop (mean ± std. dev. of 7 runs, 10000 loops each)\n",
      "4.933485207142861e-05\n",
      "L * U - A:\n",
      " [[0. 0.]\n",
      " [0. 0.]]\n",
      "[[1.e+00 0.e+00]\n",
      " [1.e+04 1.e+00]]\n",
      "[[ 1.000e-04  1.000e+00]\n",
      " [ 0.000e+00 -9.999e+03]]\n"
     ]
    }
   ],
   "source": [
    "eps = 1e-4 #1.12e-16\n",
    "A = np.array([[eps, 1],[1.0, 1]])\n",
    "\n",
    "L, U = my_lu(A)\n",
    "\n",
    "t = %timeit -o my_lu(A)\n",
    "print(t.average)\n",
    "\n",
    "print('L * U - A:\\n', np.dot(L, U) - A)\n",
    "print(L)\n",
    "print(U)"
   ]
  },
  {
   "cell_type": "code",
   "execution_count": 5,
   "metadata": {},
   "outputs": [
    {
     "name": "stderr",
     "output_type": "stream",
     "text": [
      "WARNING:absl:No GPU/TPU found, falling back to CPU. (Set TF_CPP_MIN_LOG_LEVEL=0 and rerun for more info.)\n"
     ]
    },
    {
     "name": "stdout",
     "output_type": "stream",
     "text": [
      "43.9 ms ± 5.4 ms per loop (mean ± std. dev. of 7 runs, 10 loops each)\n",
      "Lectures version:  0.04394528551428526\n",
      "L * U - A:\n",
      " [[0. 0.]\n",
      " [0. 0.]]\n"
     ]
    }
   ],
   "source": [
    "# From the lecture\n",
    "eps = 1e-4 #1.12e-16\n",
    "A = [[eps, 1],[1.0, 1]]\n",
    "A = jnp.array(A)\n",
    "\n",
    "def lecture_lu(A):\n",
    "    n = A.shape[0]\n",
    "    L = jnp.zeros((n, n))\n",
    "    U = jnp.zeros((n, n))\n",
    "    for k in range(n): #Eliminate one row\n",
    "        L = jax.ops.index_update(L, jax.ops.index[k, k], 1)\n",
    "        for i in range(k+1, n):\n",
    "            L = jax.ops.index_update(L, jax.ops.index[i, k], A[i, k] / A[k, k])\n",
    "            for j in range(k+1, n):\n",
    "                A = jax.ops.index_add(A, jax.ops.index[i, j], -L[i, k] * A[k, j])\n",
    "        for j in range(k, n):\n",
    "            U = jax.ops.index_update(U, jax.ops.index[k, j], A[k, j])\n",
    "    return L, U\n",
    "\n",
    "L, U = lecture_lu(A)\n",
    "t = %timeit -o lecture_lu(A)\n",
    "print('Lectures version: ', t.average)\n",
    "print('L * U - A:\\n', jnp.dot(L, U) - A)"
   ]
  },
  {
   "cell_type": "markdown",
   "metadata": {},
   "source": [
    "- (2 pts) Provide the comparison of running time of naive implementation from the lecture, your implementation and NumPy built-in function for range of matrix dimensions. We expect you plot the running time vs matrix dimension for these implementations. So you should get the plot with three lines."
   ]
  },
  {
   "cell_type": "code",
   "execution_count": 6,
   "metadata": {},
   "outputs": [
    {
     "name": "stdout",
     "output_type": "stream",
     "text": [
      "115 ms ± 12.6 ms per loop (mean ± std. dev. of 7 runs, 1 loop each)\n",
      "67.8 µs ± 3.02 µs per loop (mean ± std. dev. of 7 runs, 10000 loops each)\n",
      "30.9 µs ± 4.15 µs per loop (mean ± std. dev. of 7 runs, 10000 loops each)\n",
      "499 ms ± 95.4 ms per loop (mean ± std. dev. of 7 runs, 1 loop each)\n",
      "131 µs ± 14.8 µs per loop (mean ± std. dev. of 7 runs, 10000 loops each)\n",
      "42.4 µs ± 10.4 µs per loop (mean ± std. dev. of 7 runs, 10000 loops each)\n",
      "2.97 s ± 141 ms per loop (mean ± std. dev. of 7 runs, 1 loop each)\n",
      "193 µs ± 786 ns per loop (mean ± std. dev. of 7 runs, 10000 loops each)\n",
      "39.3 µs ± 709 ns per loop (mean ± std. dev. of 7 runs, 10000 loops each)\n",
      "9.55 s ± 87.5 ms per loop (mean ± std. dev. of 7 runs, 1 loop each)\n",
      "291 µs ± 3.57 µs per loop (mean ± std. dev. of 7 runs, 1000 loops each)\n",
      "56.2 µs ± 1.26 µs per loop (mean ± std. dev. of 7 runs, 10000 loops each)\n",
      "25.7 s ± 1.48 s per loop (mean ± std. dev. of 7 runs, 1 loop each)\n",
      "389 µs ± 947 ns per loop (mean ± std. dev. of 7 runs, 1000 loops each)\n",
      "63.9 µs ± 5.55 µs per loop (mean ± std. dev. of 7 runs, 10000 loops each)\n",
      "2min 9s ± 3.35 s per loop (mean ± std. dev. of 7 runs, 1 loop each)\n",
      "741 µs ± 14.1 µs per loop (mean ± std. dev. of 7 runs, 1000 loops each)\n",
      "153 µs ± 4.71 µs per loop (mean ± std. dev. of 7 runs, 10000 loops each)\n",
      "6min 8s ± 14.3 s per loop (mean ± std. dev. of 7 runs, 1 loop each)\n",
      "1.01 ms ± 15.4 µs per loop (mean ± std. dev. of 7 runs, 1000 loops each)\n",
      "149 µs ± 5.57 µs per loop (mean ± std. dev. of 7 runs, 10000 loops each)\n",
      "10min 3s ± 25.9 s per loop (mean ± std. dev. of 7 runs, 1 loop each)\n",
      "1.21 ms ± 2.93 µs per loop (mean ± std. dev. of 7 runs, 1000 loops each)\n",
      "175 µs ± 4.3 µs per loop (mean ± std. dev. of 7 runs, 10000 loops each)\n"
     ]
    }
   ],
   "source": [
    "n_range = [3, 5, 10, 15, 20, 35, 50, 60]\n",
    "time_lecture = np.zeros(len(n_range))\n",
    "time_my_lu = np.zeros(len(n_range))\n",
    "time_scipy = np.zeros(len(n_range))\n",
    "    \n",
    "for i in range(len(n_range)):\n",
    "    A = np.random.randint(1, 10, size=(n_range[i], n_range[i]))\n",
    "                                                        \n",
    "    t = %timeit -o lecture_lu(A)\n",
    "    time_lecture[i] = t.average\n",
    "    \n",
    "    t = %timeit -o my_lu(A)\n",
    "    time_my_lu[i] = t.average\n",
    "    \n",
    "    t = %timeit -o scipy.linalg.lu(A)\n",
    "    time_scipy[i] = t.average"
   ]
  },
  {
   "cell_type": "code",
   "execution_count": 7,
   "metadata": {},
   "outputs": [
    {
     "data": {
      "image/png": "[encoded data removed]",
      "text/plain": [
       "<Figure size 1008x576 with 1 Axes>"
      ]
     },
     "metadata": {
      "needs_background": "light"
     },
     "output_type": "display_data"
    }
   ],
   "source": [
    "plt.figure(figsize = (14,8))\n",
    "plt.plot(n_range, time_lecture, lw = 3, label = 'Naive (lecture) realization', color = 'r')\n",
    "plt.plot(n_range, time_my_lu, lw = 3, label = 'Doolittle (my) realization', color = 'b')\n",
    "plt.plot(n_range, time_scipy, lw = 3, label = 'Scipy realization', color = 'g')\n",
    "plt.legend()\n",
    "plt.xlabel(\"Size of a matrix (n)\")\n",
    "plt.ylabel(\"Time\")\n",
    "plt.yscale('log')\n",
    "plt.title(\"Time for performing LU decomposition of matrix of size n\")\n",
    "plt.grid(True)\n",
    "_ = plt.yticks(fontsize=18)\n",
    "plt.show()"
   ]
  },
  {
   "cell_type": "markdown",
   "metadata": {},
   "source": [
    "- (2 pts) Discuss the obtained results and explain what other tricks are possible to accelerate computing the LU factorization. "
   ]
  },
  {
   "cell_type": "markdown",
   "metadata": {},
   "source": [
    "##### We can see significant increase in time of our version work compared to the lecture naive implementation. \n",
    "##### Still, realization in Scipy works faster. \n",
    "##### 1. There is also a note that we didn't use pivoting in Doolittle algorithm, so if there are small elements on the diagonal, we can obtain large values. With additional use of pivoting, we can avoid this problem."
   ]
  },
  {
   "cell_type": "markdown",
   "metadata": {},
   "source": [
    "##### 2. For more effective implementation Cython may be used since it helps accelerate computations with translating code in Python into C and provising functional in Python.\n",
    "##### 3. Block LU decomposition can also be implemented using recursion (though I can't say anything certain about its performance)\n",
    "##### 4. More effective usage of in-built functional (for example, if possible, use iterators instead of cycles)"
   ]
  },
  {
   "cell_type": "markdown",
   "metadata": {
    "id": "4RBDYAWUOGIj"
   },
   "source": [
    "## Problem 2 (eigenvalues)  55 pts\n",
    "\n",
    "### 1. Theoretical tasks (10 pts)"
   ]
  },
  {
   "cell_type": "markdown",
   "metadata": {
    "id": "8DaPAmZPOGIm"
   },
   "source": [
    "* (5 pts) Prove that normal matrix is Hermitian iff its eigenvalues are real.\n",
    "\n",
    "$\\Rightarrow$\n",
    "##### First, prove that if a matrix is Hermitian then its eigenvalues are real.\n",
    "##### From the lectures we know a theorem that any normal matrix is diagonalizable:\n",
    "$AA^* = A^*A \\Leftrightarrow A = U \\Lambda U^*,$\n",
    "##### where $U$ is unitary and $\\Lambda$ is diagonal.\n",
    "##### Now, let us show that eigenvalues of matrix $\\Lambda$ and matrix $A$ coincide:\n",
    "$det(A - \\lambda I) = det(U \\Lambda U^* - \\lambda I) = det(U) det(\\Lambda - \\lambda I) det(U^*) = det(\\Lambda - \\lambda I)$\n",
    "##### But since $\\Lambda$ is diagonal, then it's eigenvalues are its diagonal (and the only non-zero!) elements, so diagonal elements of $\\Lambda$ are the eigenvalues of matrix $A$.\n",
    "##### Now, let us use the fact that $A$ is Hermitian, which means:\n",
    "$A = A^*$ and  $A^* = U \\Lambda^* U^* \\Rightarrow U \\Lambda U^* = U \\Lambda^* U^* \\Rightarrow U^* U \\Lambda U^*U = U^* U \\Lambda^* U^* U \\Rightarrow \\Lambda = \\Lambda^* \\Rightarrow \\forall i\\ \\lambda_i = \\overline{\\lambda_i} \\Rightarrow \\forall i\\ \\lambda_i \\in \\mathbb{R} $\n",
    "\n",
    "$\\Leftarrow$\n",
    "##### Second, to prove that if the eigenvalues of a matrix are real then it is Hermitian we may just reverse the order of the conclusions in the previous row. It can be done as all of them are equivalent:\n",
    "$ \\forall i\\ \\lambda_i \\in \\mathbb{R} \\Rightarrow \\forall i\\ \\lambda_i = \\overline{\\lambda_i} \\Rightarrow \\Lambda = \\Lambda^*.$\n",
    "##### Here, matrix $\\Lambda$ is diagonal matrix with eigenvalues on the diagonal. But we know that every normal matrix is diagonalizable, so it can be represented as:\n",
    "##### $A = U D U^*$ and $A^* = U^* D^* U$\n",
    "##### Here, matrix $D$ is diagonal and has the same eigenvalues as matrix $A$ (proved above), therefore, it has to be $D = \\Lambda$. But $\\Lambda = \\Lambda^*$, therefore, $A = A^*$ and $A$ is Hermitian."
   ]
  },
  {
   "cell_type": "markdown",
   "metadata": {},
   "source": [
    "* Prove that normal matrix is unitary iff its eigenvalues satisfy $|\\lambda| = 1$. \n",
    "\n",
    "$\\Rightarrow$\n",
    "##### $A$ is normal and unitary, therefore, $A A^* = A^* A = I$. Also, since $A$ is normal, it is diagonalizable and:\n",
    "$A = U \\Lambda U^*, A^* = U \\Lambda^* U^*$\n",
    "\n",
    "$A^*A = U \\Lambda^* U^* U \\Lambda U^* = U \\Lambda^* \\Lambda U^* = I$\n",
    "\n",
    "$AA^* =  U \\Lambda U^* U \\Lambda^* U^* = U \\Lambda \\Lambda^* U^* = I \\Rightarrow \\Lambda \\Lambda^* = U^* U = I$\n",
    "##### $\\Lambda$ is diagonal, so $\\Lambda \\Lambda^*$ is also diagonal and \n",
    "\n",
    "$\\forall i \\ \\lambda_{i} \\overline{\\lambda_i} = 1 \\Rightarrow \\forall i \\ |\\lambda_i| = 1$\n",
    "\n",
    "$\\Leftarrow$\n",
    "##### If $\\forall i \\ |\\lambda_i| = 1$, then $\\Lambda \\Lambda^* = \\Lambda^* \\Lambda = I$ \n",
    "##### Again, since matrix $A$ is normal, it is diagonalizable:\n",
    "$A = U \\Lambda U^*,\\ A^* = U \\Lambda^* U^* \\Rightarrow A A^* = U \\Lambda U^* U \\Lambda^* U^* = U \\Lambda \\Lambda^* U^* = U U^* = I$\n",
    "##### In the same way,\n",
    "$A^* A = U \\Lambda^* U^* U \\Lambda U^* = U \\Lambda^* \\Lambda U^* = U U^* = I$\n",
    "\n",
    "##### $A A^* = A^* A = I \\Rightarrow$ $A$ is unitary."
   ]
  },
  {
   "cell_type": "markdown",
   "metadata": {},
   "source": [
    "* (5 pts) The following problem illustrates instability of the Jordan form. Find theoretically the eigenvalues of the perturbed Jordan block:\n",
    "\n",
    "$$\n",
    "    J(\\varepsilon) = \n",
    "    \\begin{bmatrix} \n",
    "     \\lambda & 1 & & & 0 \\\\ \n",
    "     & \\lambda & 1 & & \\\\ \n",
    "     &  & \\ddots & \\ddots & \\\\ \n",
    "     & & & \\lambda & 1 \\\\ \n",
    "     \\varepsilon & & & & \\lambda  \\\\ \n",
    "    \\end{bmatrix}_{n\\times n}\n",
    "$$\n",
    "\n",
    "Comment how eigenvalues of $J(0)$ are perturbed for large $n$."
   ]
  },
  {
   "cell_type": "markdown",
   "metadata": {},
   "source": [
    "##### Let us denote eigenvalues as $\\mu$ for this example. Now, eigenvalues of the perturbed Jourdan block are:\n",
    "$$\n",
    "    J(\\varepsilon) - \\mu I = \n",
    "    \\begin{bmatrix} \n",
    "     \\lambda - \\mu & 1 & 0 & ... & 0 \\\\ \n",
    "     0 & \\lambda - \\mu & 1 & ... & 0 \\\\ \n",
    "     ... & ...& ... & ... & 0 \\\\ \n",
    "     ... & ... & ... & \\lambda - \\mu & 1 \\\\ \n",
    "     \\varepsilon & 0 & ... & 0 & \\lambda - \\mu  \\\\ \n",
    "    \\end{bmatrix}_{n\\times n}\n",
    "$$\n",
    "\n",
    "$det(J(\\varepsilon) - \\mu I) = (\\lambda - \\mu)^n + \\varepsilon = 0 \\Rightarrow \\lambda - \\mu = \\{ \\sqrt[n]{- \\varepsilon} \\} $\n",
    "\n",
    "$\\lambda - \\mu_k =  \\sqrt[n]{|\\varepsilon|} \\exp^{\\dfrac{i(arg(\\varepsilon) + 2\\pi k)}{n}} = \\sqrt[n]{|\\varepsilon|} \\exp^{\\dfrac{2\\pi k i}{n}}, k \\in \\{0, .. n-1 \\}$\n",
    "\n",
    "$\\mu_k = \\lambda - \\sqrt[n]{|\\varepsilon|} \\exp^{\\dfrac{2\\pi k i}{n}}$\n",
    "\n",
    "##### For $\\varepsilon =  0$ $J(0)$ has only 1 eigenvalue: $\\lambda$ of multiplicity $n$.\n",
    "##### With enlarging $n$ we have $\\sqrt[n]{|\\varepsilon|} \\rightarrow 1$, so the module of deviation from $\\lambda$ goes to 1 and $\\mu_k$ goes to $\\lambda - 1$. It is quite large error for not too high numbers. But what is interesting is that the error depends weakly on $\\varepsilon$ with large $n$ and with even a very small perturbation eigenvalues of a large matrix woud be shifted from the true value to approximately $1$."
   ]
  },
  {
   "cell_type": "markdown",
   "metadata": {
    "id": "xWcyqKyrOGIp"
   },
   "source": [
    "### 2. PageRank (35 pts)\n",
    "\n",
    "\n",
    "#### Damping factor importance\n",
    "\n",
    "* (5 pts) Write the function ```pagerank_matrix(G)``` that takes an adjacency matrix $G$ (in both sparse and dense formats) as an input and outputs the corresponding PageRank matrix $A$."
   ]
  },
  {
   "cell_type": "code",
   "execution_count": 2,
   "metadata": {},
   "outputs": [],
   "source": [
    "import scipy.sparse as spr\n",
    "from scipy.sparse.linalg import svds"
   ]
  },
  {
   "cell_type": "code",
   "execution_count": 3,
   "metadata": {
    "id": "2jktwIc8OGIp"
   },
   "outputs": [],
   "source": [
    "# INPUT:  G - np.ndarray or sparse matrix\n",
    "# OUTPUT: A - np.ndarray (of size G.shape) or sparse matrix\n",
    "def pagerank_matrix(G):\n",
    "    sum_rows = G.sum(axis=1)\n",
    "    sum_rows[sum_rows == 0] = 1\n",
    "    \n",
    "    if (spr.issparse(G)):\n",
    "        #sparse matrix (scipy)\n",
    "        diag = spr.lil_matrix((sum_rows.shape[0], sum_rows.shape[0]))\n",
    "        diag.setdiag(1/sum_rows)\n",
    "        A = G.T * diag\n",
    "    else:\n",
    "        #dense matrix\n",
    "        A = G.T / sum_rows\n",
    "        \n",
    "    return A"
   ]
  },
  {
   "cell_type": "markdown",
   "metadata": {
    "id": "BtVmgGnYOGIs"
   },
   "source": [
    "* (3 pts) Find PageRank matrix $A$ that corresponds to the following graph: <img src=\"graph.png\" width='250'>\n",
    "What is its largest eigenvalue? What multiplicity does it have?\n"
   ]
  },
  {
   "cell_type": "code",
   "execution_count": 4,
   "metadata": {},
   "outputs": [
    {
     "name": "stdout",
     "output_type": "stream",
     "text": [
      "[[0.  0.  0.5 0.  0. ]\n",
      " [1.  0.  0.5 0.  0. ]\n",
      " [0.  1.  0.  0.  0. ]\n",
      " [0.  0.  0.  0.  1. ]\n",
      " [0.  0.  0.  1.  0. ]]\n"
     ]
    }
   ],
   "source": [
    "G = np.array([[0, 1, 0, 0, 0], \n",
    "              [0, 0, 1, 0, 0], \n",
    "              [1, 1, 0, 0, 0], \n",
    "              [0, 0, 0, 0, 1], \n",
    "              [0, 0, 0, 1, 0]])\n",
    "A_pagerank = pagerank_matrix(G)\n",
    "print(A_pagerank)"
   ]
  },
  {
   "cell_type": "code",
   "execution_count": 5,
   "metadata": {},
   "outputs": [
    {
     "name": "stdout",
     "output_type": "stream",
     "text": [
      "Largest eigenvalue is:  1.0000000000000004\n"
     ]
    }
   ],
   "source": [
    "eig_value, _ = np.linalg.eig(A_pagerank)\n",
    "print('Largest eigenvalue is: ', np.abs(eig_value.max()))"
   ]
  },
  {
   "cell_type": "code",
   "execution_count": 6,
   "metadata": {},
   "outputs": [
    {
     "data": {
      "text/plain": [
       "array([-0.5+0.5j, -0.5-0.5j,  1. +0.j ,  1. +0.j , -1. +0.j ])"
      ]
     },
     "execution_count": 6,
     "metadata": {},
     "output_type": "execute_result"
    }
   ],
   "source": [
    "eig_value"
   ]
  },
  {
   "cell_type": "markdown",
   "metadata": {},
   "source": [
    "##### From the list of eigen values one can see that the multiplicity of largest eigenvalue (which is $1$) is $2$."
   ]
  },
  {
   "cell_type": "markdown",
   "metadata": {},
   "source": [
    "* (5 pts) Implement the power method for a given matrix $A$, an initial guess $x_0$ and a number of iterations ```num_iter```. It should be organized as a function ```power_method(A, x0, num_iter)``` that outputs approximation to eigenvector $x$, eigenvalue $\\lambda$ and history of residuals $\\{\\|Ax_k - \\lambda_k x_k\\|_2\\}$. Make sure that the method converges to the correct solution on a matrix $\\begin{bmatrix} 2 & -1 \\\\ -1 & 2 \\end{bmatrix}$ which is known to have the largest eigenvalue equal to $3$."
   ]
  },
  {
   "cell_type": "code",
   "execution_count": 38,
   "metadata": {
    "id": "uLo7A--rOGIs"
   },
   "outputs": [],
   "source": [
    "# INPUT:  A - np.ndarray (2D), x0 - np.ndarray (1D), num_iter - integer (positive)\n",
    "# OUTPUT: x - np.ndarray (of size x0), l-float, res-np.ndarray(of size num_iter + 1 [include initial guess])\n",
    "def power_method(A, x0, num_iter = 30): # 5 pts\n",
    "    x = x0 / np.linalg.norm(x0)\n",
    "    res = np.zeros(num_iter + 1)\n",
    "    res[0] = np.linalg.norm(x)#np.linalg.norm(x)\n",
    "    for i in range(num_iter):\n",
    "        x = np.dot(A, x)\n",
    "        x /= np.linalg.norm(x)\n",
    "        l = np.dot(np.dot(A, x), x)\n",
    "        res[i+1] = np.linalg.norm(np.dot(A, x) - l * x)\n",
    "    return x, l, res"
   ]
  },
  {
   "cell_type": "markdown",
   "metadata": {},
   "source": [
    "Making sure that the method converges to the correct solution on a matrix $\\begin{bmatrix} 2 & -1 \\\\ -1 & 2 \\end{bmatrix}$ which is known to have the largest eigenvalue equal to $3$."
   ]
  },
  {
   "cell_type": "code",
   "execution_count": 39,
   "metadata": {},
   "outputs": [
    {
     "name": "stdout",
     "output_type": "stream",
     "text": [
      "[-0.70710678  0.70710678] 3.0000000000000004\n"
     ]
    }
   ],
   "source": [
    "A = np.array([[2, -1], [-1, 2]])\n",
    "x0 = np.random.uniform(0, 10, size=2) #[0, 1]\n",
    "x, l, res = power_method(A, x0)\n",
    "print(x, l)"
   ]
  },
  {
   "cell_type": "markdown",
   "metadata": {},
   "source": [
    "* (2 pts) Run the power method for the graph presented above and plot residuals $\\|Ax_k - \\lambda_k x_k\\|_2$ as a function of $k$ for ```num_iter=100``` and random initial guess ```x0```.  Explain the absence of convergence. \n"
   ]
  },
  {
   "cell_type": "code",
   "execution_count": 98,
   "metadata": {},
   "outputs": [
    {
     "name": "stdout",
     "output_type": "stream",
     "text": [
      "[0.27642591 0.55285183 0.55285183 0.13428698 0.54246238] 0.8333928410829985\n"
     ]
    }
   ],
   "source": [
    "#x0 = np.random.rand(5) #np.random.uniform(0, 10, size=5)\n",
    "#num_iter = 100\n",
    "#x, l, res_A = power_method(A_pagerank, x0, num_iter)\n",
    "#print(x, l)"
   ]
  },
  {
   "cell_type": "code",
   "execution_count": 45,
   "metadata": {},
   "outputs": [
    {
     "name": "stdout",
     "output_type": "stream",
     "text": [
      "[0.2046775  0.40935501 0.40935501 0.76547526 0.19238425] 0.6715666970669435\n"
     ]
    }
   ],
   "source": [
    "x0 = np.random.rand(5) #np.random.uniform(0, 10, size=5)\n",
    "num_iter = 100\n",
    "x, l, res_A = power_method(A_pagerank, x0, num_iter)\n",
    "print(x, l)"
   ]
  },
  {
   "cell_type": "code",
   "execution_count": 46,
   "metadata": {},
   "outputs": [
    {
     "name": "stdout",
     "output_type": "stream",
     "text": [
      "Ploting power method for matrix pagerank, maximum eigenvalue is: 0.6715666970669435 , true max eigenvalue = 1.\n"
     ]
    }
   ],
   "source": [
    "print(\"Ploting power method for matrix pagerank, maximum eigenvalue is:\", l, \", true max eigenvalue = 1.\")"
   ]
  },
  {
   "cell_type": "code",
   "execution_count": 47,
   "metadata": {},
   "outputs": [
    {
     "data": {
      "image/png": "[encoded data removed]",
      "text/plain": [
       "<Figure size 1008x576 with 1 Axes>"
      ]
     },
     "metadata": {
      "needs_background": "light"
     },
     "output_type": "display_data"
    }
   ],
   "source": [
    "plt.figure(figsize = (14,8))\n",
    "plt.plot(range(101), res_A, lw = 3, color = 'r')\n",
    "plt.xlabel(\"Number of iterations\")\n",
    "plt.ylabel(\"Residual\")\n",
    "plt.title(\"Residuals ($||Ax_k - \\lambda_k x_k||_2$) for power method on matrix $G$\")\n",
    "plt.grid(True)\n",
    "plt.show()"
   ]
  },
  {
   "cell_type": "markdown",
   "metadata": {},
   "source": [
    "#### The absence of convergence.\n",
    "##### As we know, the convergence for power method is geometric $($~$ q^k$, where $k$ - number of iteration, $q = \\dfrac{|\\lambda_2|}{|\\lambda_1|}$). But as we've already seen, for this matrix first two eigenvalues are equal to $1$ (with multiplicity $2$) and $-1$ . So, in our case $q = \\dfrac{|-1|}{|1|} = 1$, that's why we can't promise any convergence for this matrix."
   ]
  },
  {
   "cell_type": "markdown",
   "metadata": {},
   "source": [
    "* (2 pts) Consider the same graph, but with additional self loop at node 4 (self loop is an edge that connects a vertex with itself). Plot residuals as in the previous task and discuss the convergence."
   ]
  },
  {
   "cell_type": "code",
   "execution_count": 48,
   "metadata": {},
   "outputs": [
    {
     "name": "stdout",
     "output_type": "stream",
     "text": [
      "[0.25472981 0.50945963 0.50945963 0.28844913 0.57689826] 1.0\n"
     ]
    },
    {
     "data": {
      "image/png": "[encoded data removed]",
      "text/plain": [
       "<Figure size 1008x576 with 1 Axes>"
      ]
     },
     "metadata": {
      "needs_background": "light"
     },
     "output_type": "display_data"
    }
   ],
   "source": [
    "G_1 = np.array([[0, 1, 0, 0, 0],\n",
    "                [0, 0, 1, 0, 0],\n",
    "                [1, 1, 0, 0, 0],\n",
    "                [0, 0, 0, 0, 1],\n",
    "                [0, 0, 0, 1, 1]])\n",
    "\n",
    "A_pagerank_1 = pagerank_matrix(G_1)\n",
    "#print(A_pagerank_1)\n",
    "\n",
    "x0 = np.random.rand(5)\n",
    "num_iter = 100\n",
    "x, l, res_A_1 = power_method(A_pagerank_1, x0, num_iter)\n",
    "print(x, l)\n",
    "\n",
    "plt.figure(figsize = (14,8))\n",
    "plt.plot(range(101), res_A_1, lw = 3, color = 'r')\n",
    "plt.xlabel(\"Number of iterations\")\n",
    "plt.ylabel(\"Residual\")\n",
    "plt.title(\"Residuals for power method on matrix $G_1$ with self-loop at vertex 4\")\n",
    "plt.grid(True)\n",
    "plt.show()"
   ]
  },
  {
   "cell_type": "code",
   "execution_count": 49,
   "metadata": {},
   "outputs": [
    {
     "name": "stdout",
     "output_type": "stream",
     "text": [
      "[[0.  0.  0.5 0.  0. ]\n",
      " [1.  0.  0.5 0.  0. ]\n",
      " [0.  1.  0.  0.  0. ]\n",
      " [0.  0.  0.  0.  0.5]\n",
      " [0.  0.  0.  1.  0.5]]\n",
      "[-0.5+0.5j -0.5-0.5j  1. +0.j  -0.5+0.j   1. +0.j ]\n"
     ]
    }
   ],
   "source": [
    "A_pagerank_1 = pagerank_matrix(G_1)\n",
    "print(A_pagerank_1)\n",
    "eig_values, _ = np.linalg.eig(A_pagerank_1)\n",
    "print(eig_values)"
   ]
  },
  {
   "cell_type": "markdown",
   "metadata": {},
   "source": [
    "##### We can see that for this pagerank matrix first and second eigenvalues are different in modulus $(q \\approx \\dfrac{0.7}{1} = 0.7)$, so in this case there is a convergence. And the largest eigenvalue, computed by power method, is really close to the real value, which is $1$. "
   ]
  },
  {
   "cell_type": "markdown",
   "metadata": {},
   "source": [
    " Now, run the power method with ```num_iter=100``` for 10 different initial guesses and print/plot the resulting approximated eigenvectors. Why do they depend on the initial guess?"
   ]
  },
  {
   "cell_type": "code",
   "execution_count": 50,
   "metadata": {},
   "outputs": [
    {
     "name": "stdout",
     "output_type": "stream",
     "text": [
      "Iteration 0 eigenvector: [0.27726396 0.55452793 0.55452793 0.24824272 0.49648545]\n",
      "Iteration 1 eigenvector: [0.25527811 0.51055623 0.51055623 0.2875753  0.57515059]\n",
      "Iteration 2 eigenvector: [0.04377451 0.08754902 0.08754902 0.44334053 0.88668106]\n",
      "Iteration 3 eigenvector: [0.30186917 0.60373833 0.60373833 0.1896708  0.37934159]\n",
      "Iteration 4 eigenvector: [0.21995414 0.43990828 0.43990828 0.33603023 0.67206047]\n",
      "Iteration 5 eigenvector: [0.23092046 0.46184093 0.46184093 0.32251563 0.64503126]\n",
      "Iteration 6 eigenvector: [0.2759526  0.5519052  0.5519052  0.25085911 0.50171822]\n",
      "Iteration 7 eigenvector: [0.12411609 0.24823217 0.24823217 0.41505585 0.83011169]\n",
      "Iteration 8 eigenvector: [0.32887948 0.65775896 0.65775896 0.07286231 0.14572462]\n",
      "Iteration 9 eigenvector: [0.21223653 0.42447306 0.42447306 0.34484805 0.6896961 ]\n"
     ]
    }
   ],
   "source": [
    "for i in range(10):\n",
    "    x0 = np.random.rand(5)\n",
    "    num_iter = 100\n",
    "    x, l, res_A_1 = power_method(A_pagerank_1, x0, num_iter)\n",
    "    print(\"Iteration\", i, \"eigenvector:\", x)"
   ]
  },
  {
   "cell_type": "markdown",
   "metadata": {},
   "source": [
    "##### Though in this case we observe the convergence of approximated eigenvalue to the true value, the resulting eigenvectors don't converge to the same eigenvector. They are different and depend on the initial guess.\n",
    "##### This is because of the multiplicity of largest eigenvalue equal to $2$. So, we have two different true eigenvectors and each of our  approximated eigenvectors converge to some linear combination of them, different each time."
   ]
  },
  {
   "cell_type": "markdown",
   "metadata": {
    "id": "9hAowO6zOGIu"
   },
   "source": [
    "In order to avoid this problem Larry Page and Sergey Brin [proposed](http://ilpubs.stanford.edu:8090/422/1/1999-66.pdf) to use the following regularization technique:\n",
    "\n",
    "$$\n",
    "A_d = dA + \\frac{1-d}{N} \\begin{pmatrix} 1 & \\dots & 1 \\\\ \\vdots & & \\vdots \\\\ 1 & \\dots & 1 \\end{pmatrix},\n",
    "$$\n",
    "\n",
    "where $d$ is a small parameter in $[0,1]$ (typically $d=0.85$), which is called **damping factor**, $A$ is of size $N\\times N$. Now $A_d$ is the matrix with multiplicity of the largest eigenvalue equal to 1. \n",
    "Recall that computing the eigenvector of the PageRank matrix, which corresponds to the largest eigenvalue, has the following interpretation. Consider a person who stays in a random node of a graph (i.e. opens a random web page); at each step s/he follows one of the outcoming edges uniformly at random (i.e. opens one of the links). So the person randomly walks through the graph and the eigenvector we are looking for is exactly his/her stationary distribution â€” for each node it tells you the probability of visiting this particular node. Therefore, if the person has started from a part of the graph which is not connected with the other part, he will never get there.  In the regularized model, the person at each step follows one of the outcoming links with probability $d$ OR teleports to a random node from the whole graph with probability $(1-d)$.\n",
    "\n",
    "* (2 pts) Now, run the power method with $A_d$ and plot residuals $\\|A_d x_k - \\lambda_k x_k\\|_2$ as a function of $k$ for $d=0.97$, ```num_iter=100``` and a random initial guess ```x0```.\n"
   ]
  },
  {
   "cell_type": "code",
   "execution_count": 51,
   "metadata": {},
   "outputs": [
    {
     "name": "stdout",
     "output_type": "stream",
     "text": [
      "[0.2589863  0.51014945 0.50759442 0.29156253 0.57446744] 0.9999943041099957\n"
     ]
    }
   ],
   "source": [
    "d = 0.97\n",
    "N = A_pagerank_1.shape[0]\n",
    "\n",
    "A_d = d * A_pagerank_1 + (1 - d) / N * np.ones(N)\n",
    "x0 = np.random.rand(5)\n",
    "num_iter = 100\n",
    "x, l, res_A_d = power_method(A_d, x0, num_iter)\n",
    "print(x, l)"
   ]
  },
  {
   "cell_type": "code",
   "execution_count": 52,
   "metadata": {},
   "outputs": [
    {
     "data": {
      "image/png": "[encoded data removed]",
      "text/plain": [
       "<Figure size 1008x576 with 1 Axes>"
      ]
     },
     "metadata": {
      "needs_background": "light"
     },
     "output_type": "display_data"
    }
   ],
   "source": [
    "plt.figure(figsize = (14,8))\n",
    "plt.plot(range(101), res_A_d, lw = 3, color = 'r')\n",
    "plt.xlabel(\"Number of iterations\")\n",
    "plt.ylabel(\"Residual\")\n",
    "plt.title(\"Residuals for power method on matrix $A_d$\")\n",
    "plt.grid(True)\n",
    "plt.show()"
   ]
  },
  {
   "cell_type": "markdown",
   "metadata": {},
   "source": [
    "* (5 pts) Find the second largest in the absolute value eigenvalue of the obtained matrix $A_d$. How and why is it connected to the damping factor $d$? What is the convergence rate of the PageRank algorithm when using damping factor?"
   ]
  },
  {
   "cell_type": "code",
   "execution_count": 32,
   "metadata": {},
   "outputs": [
    {
     "name": "stdout",
     "output_type": "stream",
     "text": [
      "[-0.485+0.485j -0.485-0.485j  1.   +0.j     0.97 +0.j    -0.485+0.j   ]\n",
      "Second largest real eigenvalue: 0.9700000000000001\n"
     ]
    }
   ],
   "source": [
    "eig_values, _ = np.linalg.eig(A_d)\n",
    "print(eig_values)\n",
    "eig_values = np.sort(abs(eig_values.real))[-2]\n",
    "print('Second largest real eigenvalue:' , eig_values)"
   ]
  },
  {
   "cell_type": "markdown",
   "metadata": {},
   "source": [
    "##### Second eigenvalue is less or equal $d$ when matrix $A_d$ is defined as above (proofs for the similar matrix type is here: http://ilpubs.stanford.edu:8090/582/1/2003-20.pdf). But for our case it is observed to be even equal to $d$ and it's quite logical according to the formula of $A_d$ (which also corresponds to the theorem in the source, because initial matrix from which we obtained pagerank contains two components and safisfies conditions of theorem 2).\n",
    "##### Therefore, the less we take $d$, the faster the convergence should be. But $d$ should not be too small because then the structure of the initial matrix $A$ is completely lost and the resulting matrix will become closer to the matrix with all elements equal.\n",
    "\n",
    "##### The convergence in our case is equal to $d < 1$."
   ]
  },
  {
   "cell_type": "markdown",
   "metadata": {},
   "source": [
    "Usually, graphs that arise in various areas are sparse (social, web, road networks, etc.) and, thus, computation of a matrix-vector product for corresponding PageRank matrix $A$ is much cheaper than $\\mathcal{O}(N^2)$. However, if $A_d$ is calculated directly, it becomes dense and, therefore, $\\mathcal{O}(N^2)$ cost grows prohibitively large for  big $N$.\n",
    "\n",
    "\n",
    "* (2 pts) Implement fast matrix-vector product for $A_d$ as a function ```pagerank_matvec(A, d, x)```, which takes a PageRank matrix $A$ (in sparse format, e.g., ```csr_matrix```), damping factor $d$ and a vector $x$ as an input and returns $A_dx$ as an output. "
   ]
  },
  {
   "cell_type": "code",
   "execution_count": 53,
   "metadata": {
    "id": "4o3LKx5UOGIv"
   },
   "outputs": [],
   "source": [
    "# INPUT:  A - np.ndarray (2D), d - float (from 0.0 to 1.0), x - np.ndarray (1D, size of A.shape[0/1])\n",
    "# OUTPUT: y - np.ndarray (1D, size of x)\n",
    "def pagerank_matvec(A, d, x): # 2 pts\n",
    "    y = A @ (d*x)\n",
    "    y += (1-d) / A.shape[0] * np.sum(x)\n",
    "    return y"
   ]
  },
  {
   "cell_type": "markdown",
   "metadata": {},
   "source": [
    "* (1 pts) Generate a random adjacency matrix of size $10000 \\times 10000$ with only 100 non-zero elements and compare ```pagerank_matvec``` performance with direct evaluation of $A_dx$."
   ]
  },
  {
   "cell_type": "code",
   "execution_count": 34,
   "metadata": {},
   "outputs": [],
   "source": [
    "index_nonzero = np.random.randint(1,1000, size = (100,2))\n",
    "A_sparse = spr.csr_matrix((np.ones(100),(index_nonzero[:,0],index_nonzero[:,1])),\n",
    "                          shape=(10000,10000),dtype=\"float64\")\n",
    "x = np.random.uniform(0,100, size=(10000,1))\n",
    "\n",
    "d = 0.97\n",
    "A_sparse_ = np.zeros((10000,10000))\n",
    "A_sparse_[index_nonzero[:,0],index_nonzero[:,1]] = 1"
   ]
  },
  {
   "cell_type": "markdown",
   "metadata": {},
   "source": [
    "##### Checking performance"
   ]
  },
  {
   "cell_type": "code",
   "execution_count": 35,
   "metadata": {},
   "outputs": [
    {
     "data": {
      "text/plain": [
       "array([-1.16910925e-11])"
      ]
     },
     "execution_count": 35,
     "metadata": {},
     "output_type": "execute_result"
    }
   ],
   "source": [
    "sum(pagerank_matvec(A_sparse,d,x) - (d*A_sparse_+(1-d)/A_sparse_.shape[0]*np.ones(A_sparse_.shape)).dot(x))"
   ]
  },
  {
   "cell_type": "markdown",
   "metadata": {},
   "source": [
    "#####  pagerank_matvec performance "
   ]
  },
  {
   "cell_type": "code",
   "execution_count": 36,
   "metadata": {},
   "outputs": [
    {
     "name": "stdout",
     "output_type": "stream",
     "text": [
      "73.7 µs ± 3.55 µs per loop (mean ± std. dev. of 7 runs, 10000 loops each)\n"
     ]
    }
   ],
   "source": [
    "%timeit pagerank_matvec(A_sparse,d,x)"
   ]
  },
  {
   "cell_type": "markdown",
   "metadata": {},
   "source": [
    "##### Direct evaluation of $A_dx$"
   ]
  },
  {
   "cell_type": "code",
   "execution_count": 37,
   "metadata": {},
   "outputs": [
    {
     "name": "stdout",
     "output_type": "stream",
     "text": [
      "639 ms ± 47.7 ms per loop (mean ± std. dev. of 7 runs, 1 loop each)\n"
     ]
    }
   ],
   "source": [
    "%timeit (d*A_sparse_+(1-d)/A_sparse_.shape[0]*np.ones(A_sparse_.shape)).dot(x)"
   ]
  },
  {
   "cell_type": "markdown",
   "metadata": {},
   "source": [
    "##### We can observe that pagerank_matvec is faster."
   ]
  },
  {
   "cell_type": "markdown",
   "metadata": {
    "id": "ru70NGUlOGIy"
   },
   "source": [
    "#### DBLP: computer science bibliography\n",
    "\n",
    "Download the dataset from [here](https://goo.gl/oZVxEa), unzip it and put `dblp_authors.npz`  and `dblp_graph.npz` in the same folder with this notebook. Each value (author name) from `dblp_authors.npz` corresponds to the row/column of the matrix from `dblp_graph.npz`. Value at row `i` and column `j` of the matrix from `dblp_graph.npz` corresponds to the number of times author `i` cited papers of the author `j`. Let us now find the most significant scientists according to PageRank model over DBLP data.\n",
    "\n",
    "* (4 pts) Load the weighted adjacency matrix and the authors list into Python using ```load_dblp(...)``` function. Print its density (fraction of nonzero elements). Find top-10 most cited authors from the weighted adjacency matrix. Now, make all the weights of the adjacency matrix equal to 1 for simplicity (consider only existence of connection between authors, not its weight). Obtain the PageRank matrix $A$ from the adjacency matrix and verify that it is stochastic."
   ]
  },
  {
   "cell_type": "code",
   "execution_count": 54,
   "metadata": {
    "id": "L5ZnW7m-OGIz"
   },
   "outputs": [],
   "source": [
    "from scipy.sparse import load_npz\n",
    "import numpy as np\n",
    "def load_dblp(path_auth, path_graph):\n",
    "    G = load_npz(path_graph).astype(float)\n",
    "    with np.load(path_auth) as data: authors = data['authors']\n",
    "    return G, authors\n",
    "\n",
    "G, authors = load_dblp('dblp_authors.npz', 'dblp_graph.npz')"
   ]
  },
  {
   "cell_type": "code",
   "execution_count": 55,
   "metadata": {},
   "outputs": [
    {
     "name": "stdout",
     "output_type": "stream",
     "text": [
      "Density of the weighted adjacency matrix = 4.4986518152305776e-05\n"
     ]
    }
   ],
   "source": [
    "print(\"Density of the weighted adjacency matrix =\", G.getnnz() / (G.shape[0] * G.shape[1]))"
   ]
  },
  {
   "cell_type": "code",
   "execution_count": 56,
   "metadata": {},
   "outputs": [
    {
     "name": "stdout",
     "output_type": "stream",
     "text": [
      "TOP-10 most cited authors:\n",
      "['David G. Lowe' 'David E. Culler' 'Ion Stoica' 'Jitendra Malik'\n",
      " 'Cordelia Schmid' 'Anil K. Jain' 'Jiawei Han' 'Hari Balakrishnan'\n",
      " 'Andrew Zisserman' 'Scott Shenker']\n"
     ]
    }
   ],
   "source": [
    "summ = G.sum(axis = 0)\n",
    "auth = np.argsort(summ[0, :])[0, -10:]\n",
    "print(\"TOP-10 most cited authors:\")\n",
    "print(authors[auth][0])"
   ]
  },
  {
   "cell_type": "code",
   "execution_count": 57,
   "metadata": {},
   "outputs": [
    {
     "name": "stdout",
     "output_type": "stream",
     "text": [
      "(1766547, 1766547)\n"
     ]
    }
   ],
   "source": [
    "G[G != 0] = 1\n",
    "A_dblp = pagerank_matrix(G)\n",
    "print(A_dblp.shape)"
   ]
  },
  {
   "cell_type": "code",
   "execution_count": 58,
   "metadata": {},
   "outputs": [
    {
     "name": "stdout",
     "output_type": "stream",
     "text": [
      "Is stochastic: True\n"
     ]
    }
   ],
   "source": [
    "#A_dblp = pagerank_matrix(G)\n",
    "sum_ = np.array(A_dblp.sum(axis = 0), dtype = int).reshape(-1)\n",
    "\n",
    "#Verufy that stochastic\n",
    "print('Is stochastic:', np.all(sum_[sum_ > 0] == 1))"
   ]
  },
  {
   "cell_type": "markdown",
   "metadata": {},
   "source": [
    "* (1 pts) In order to provide ```pagerank_matvec``` to your ```power_method``` (without rewriting it) for fast calculation of $A_dx$, you can create a ```LinearOperator```: \n",
    "```python\n",
    "L = scipy.sparse.linalg.LinearOperator(A.shape, matvec=lambda x, A=A, d=d: pagerank_matvec(A, d, x))\n",
    "```\n",
    "Calling ```L@x``` or ```L.dot(x)``` will result in calculation of ```pagerank_matvec(A, d, x)``` and, thus, you can plug $L$ instead of the matrix $A$ in the ```power_method``` directly. **Note:** though in the previous subtask graph was very small (so you could disparage fast matvec implementation), here it is very large (but sparse), so that direct evaluation of $A_dx$ will require $\\sim 10^{12}$ matrix elements to store - good luck with that (^_<)."
   ]
  },
  {
   "cell_type": "markdown",
   "metadata": {},
   "source": [
    "* (2 pts) Run the power method starting from the vector of all ones and plot residuals $\\|A_dx_k - \\lambda_k x_k\\|_2$  as a function of $k$ for $d=0.85$."
   ]
  },
  {
   "cell_type": "code",
   "execution_count": 60,
   "metadata": {},
   "outputs": [],
   "source": [
    "def power_method_1(A, d, x0, num_iter = 30): # 5 pts\n",
    "    x = x0 / np.linalg.norm(x0)\n",
    "    res = np.zeros(num_iter + 1)\n",
    "    res[0] = np.linalg.norm(x)#np.linalg.norm(x)\n",
    "    for i in range(num_iter):\n",
    "        x = pagerank_matvec(A, d, x)\n",
    "        x /= np.linalg.norm(x)\n",
    "        Ax = pagerank_matvec(A, d, x)\n",
    "        l = np.dot(Ax, x)\n",
    "        res[i+1] = np.linalg.norm(Ax - l * x)\n",
    "    return x, l, res"
   ]
  },
  {
   "cell_type": "code",
   "execution_count": 61,
   "metadata": {},
   "outputs": [],
   "source": [
    "#L = spr.linalg.LinearOperator(A_dblp.shape, matvec = lambda x, A = A_dblp, d = 0.85: pagerank_matvec(A, d, x))\n",
    "d = 0.85\n",
    "x0 = np.array([1 for i in range(A_dblp.shape[0])])#.reshape(A_dblp.shape[0], 1)\n",
    "x, l, res_dblp = power_method_1(A_dblp, d, x0, num_iter=100)"
   ]
  },
  {
   "cell_type": "code",
   "execution_count": 66,
   "metadata": {},
   "outputs": [
    {
     "data": {
      "image/png": "[encoded data removed]",
      "text/plain": [
       "<Figure size 1008x576 with 1 Axes>"
      ]
     },
     "metadata": {
      "needs_background": "light"
     },
     "output_type": "display_data"
    }
   ],
   "source": [
    "plt.figure(figsize = (14,8))\n",
    "plt.plot(range(101), res_dblp, lw = 3, color = 'r')\n",
    "plt.xlabel(\"Number of iterations\")\n",
    "plt.ylabel(\"Residual\")\n",
    "plt.title(\"Residuals for power method on matrix with authors $A_{dblp}$\")\n",
    "plt.grid(True)\n",
    "plt.show()"
   ]
  },
  {
   "cell_type": "code",
   "execution_count": 73,
   "metadata": {},
   "outputs": [
    {
     "name": "stdout",
     "output_type": "stream",
     "text": [
      "Largest eigenvalue for the matrix 0.962349499555062\n"
     ]
    }
   ],
   "source": [
    "print('Largest eigenvalue for the matrix', l)"
   ]
  },
  {
   "cell_type": "markdown",
   "metadata": {},
   "source": [
    "* (1 pts) Print names of the top-10 authors according to PageRank over DBLP when $d=0.85$. Comment on your findings."
   ]
  },
  {
   "cell_type": "code",
   "execution_count": 90,
   "metadata": {},
   "outputs": [
    {
     "name": "stdout",
     "output_type": "stream",
     "text": [
      "TOP-10 most cited authors accoeding to PageRank:\n",
      "['Gerard Salton' 'Robert Endre Tarjan' 'Alfred V. Aho' 'Takeo Kanade'\n",
      " 'Anil K. Jain' 'Ronald L. Rivest' 'Azriel Rosenfeld' 'John E. Hopcroft'\n",
      " 'Richard M. Karp' 'David E. Goldberg']\n"
     ]
    }
   ],
   "source": [
    "auth = np.argsort(x)[-10:]\n",
    "print(\"TOP-10 most cited authors accoeding to PageRank:\")\n",
    "print(authors[auth])"
   ]
  },
  {
   "cell_type": "markdown",
   "metadata": {
    "id": "hQ2vaIyMOGI3"
   },
   "source": [
    "### 3. QR algorithm (10 pts)\n",
    "\n",
    "* Implement QR-algorithm without shifting. Prototype of the function is given below"
   ]
  },
  {
   "cell_type": "code",
   "execution_count": 145,
   "metadata": {},
   "outputs": [],
   "source": [
    "import jax.numpy as jnp\n",
    "import jax\n",
    "import matplotlib.pyplot as plt\n",
    "%matplotlib inline\n",
    "from jax.config import config\n",
    "config.update(\"jax_enable_x64\", True)"
   ]
  },
  {
   "cell_type": "code",
   "execution_count": 146,
   "metadata": {
    "id": "rMHBZLojOGI3"
   },
   "outputs": [],
   "source": [
    "# INPUT: \n",
    "# A_init - square matrix, \n",
    "# num_iter - number of iterations for QR algorithm\n",
    "# OUTPUT: \n",
    "# Ak - transformed matrix A_init given by QR algorithm, \n",
    "# convergence - numpy array of shape (num_iter, ), \n",
    "# where we store the maximal number from the Chebyshev norm \n",
    "# of triangular part of the Ak for every iteration\n",
    "def qr_algorithm(A_init, num_iter): # 3 pts\n",
    "    Ak = A_init\n",
    "    convergence = np.zeros(num_iter,)\n",
    "    for i in range(num_iter):\n",
    "        q, r = jnp.linalg.qr(Ak)\n",
    "        Ak = jnp.dot(r, q)\n",
    "        convergence[i] = np.max([np.abs(Ak[i, j]) for i in range(Ak.shape[0]) for j in range(i)])\n",
    "    return Ak, convergence"
   ]
  },
  {
   "cell_type": "markdown",
   "metadata": {
    "id": "UNrCBNRUOGI6"
   },
   "source": [
    "#### Symmetric case (3 pts)\n",
    "- Create symmetric tridiagonal $11 \\times 11$ matrix with elements $-1, 2, -1$ on sub-, main- and upper diagonal respectively without using loops.\n",
    "- Run $400$ iterations of the QR algorithm for this matrix.\n",
    "- Plot the output matrix with function ```plt.spy(Ak, precision=1e-7)```.\n",
    "- Plot convergence of QR-algorithm."
   ]
  },
  {
   "cell_type": "code",
   "execution_count": 147,
   "metadata": {
    "id": "NuKwQGXbOGI6"
   },
   "outputs": [
    {
     "data": {
      "text/plain": [
       "<matplotlib.image.AxesImage at 0x7f85f4247e48>"
      ]
     },
     "execution_count": 147,
     "metadata": {},
     "output_type": "execute_result"
    },
    {
     "data": {
      "image/png": "[encoded data removed]",
      "text/plain": [
       "<Figure size 432x288 with 1 Axes>"
      ]
     },
     "metadata": {
      "needs_background": "light"
     },
     "output_type": "display_data"
    }
   ],
   "source": [
    "n = 11\n",
    "d = jnp.array([2 for _ in range(n)])\n",
    "sub_diag = jnp.array([-1 for _ in range(n-1)])\n",
    "\n",
    "qr_mat = jnp.diag(d) + jnp.diag(sub_diag, -1) + jnp.diag(sub_diag, 1)\n",
    "Ak, conv = qr_algorithm(qr_mat, num_iter=400)\n",
    "plt.spy(Ak, precision=1e-7)"
   ]
  },
  {
   "cell_type": "code",
   "execution_count": 154,
   "metadata": {},
   "outputs": [
    {
     "data": {
      "image/png": "[encoded data removed]",
      "text/plain": [
       "<Figure size 1008x576 with 1 Axes>"
      ]
     },
     "metadata": {
      "needs_background": "light"
     },
     "output_type": "display_data"
    }
   ],
   "source": [
    "plt.figure(figsize = (14,8))\n",
    "plt.plot(range(400), conv, lw = 3, color = 'r')\n",
    "plt.xlabel(\"Number of iterations\")\n",
    "plt.ylabel(\"Maximal element on module under the diagonal\")\n",
    "plt.title(\"Convergence of iterative QR algorithm (symmetric case)\")\n",
    "plt.grid(True)\n",
    "plt.show()"
   ]
  },
  {
   "cell_type": "markdown",
   "metadata": {
    "id": "-lomV2K-OGI8"
   },
   "source": [
    "#### Nonsymmetric case (4 pts)\n",
    "\n",
    "- Create nonsymmetric tridiagonal $11 \\times 11$ matrix with elements $5, 3, -2$ on sub-, main- and upper diagonal respectively without using loops.\n",
    "- Run $250$ iterations of the QR algorithm for this matrix.\n",
    "- Plot the result matrix with function ```plt.spy(Ak, precision=1e-7)```. Is this matrix lower triangular? How does this correspond to the claim about convergence of the QR algorithm?"
   ]
  },
  {
   "cell_type": "code",
   "execution_count": 149,
   "metadata": {
    "id": "C2lGBHjaOGI9"
   },
   "outputs": [
    {
     "data": {
      "text/plain": [
       "<matplotlib.image.AxesImage at 0x7f85f45ae278>"
      ]
     },
     "execution_count": 149,
     "metadata": {},
     "output_type": "execute_result"
    },
    {
     "data": {
      "image/png": "[encoded data removed]",
      "text/plain": [
       "<Figure size 432x288 with 1 Axes>"
      ]
     },
     "metadata": {
      "needs_background": "light"
     },
     "output_type": "display_data"
    }
   ],
   "source": [
    "n = 11\n",
    "d = jnp.array([3 for _ in range(n)])\n",
    "sub_diag = jnp.array([5 for _ in range(n-1)])\n",
    "upper_diag = jnp.array([-2 for _ in range(n-1)])\n",
    "\n",
    "qr_mat_2 = jnp.diag(d) + jnp.diag(sub_diag, -1) + jnp.diag(upper_diag, 1)\n",
    "Ak_2, conv_2 = qr_algorithm(qr_mat_2, num_iter=250)\n",
    "plt.spy(Ak_2, precision=1e-7)"
   ]
  },
  {
   "cell_type": "code",
   "execution_count": 153,
   "metadata": {},
   "outputs": [
    {
     "data": {
      "image/png": "[encoded data removed]",
      "text/plain": [
       "<Figure size 1008x576 with 1 Axes>"
      ]
     },
     "metadata": {
      "needs_background": "light"
     },
     "output_type": "display_data"
    }
   ],
   "source": [
    "plt.figure(figsize = (14,8))\n",
    "plt.plot(range(250), conv_2, lw = 3, color = 'r')\n",
    "plt.xlabel(\"Number of iterations\")\n",
    "plt.ylabel(\"Maximal element on module under the diagonal\")\n",
    "plt.title(\"Convergence of iterative QR algorithm (nonsymmetric case)\")\n",
    "plt.grid(True)\n",
    "plt.show()"
   ]
  },
  {
   "cell_type": "code",
   "execution_count": 150,
   "metadata": {},
   "outputs": [
    {
     "name": "stdout",
     "output_type": "stream",
     "text": [
      "[3.         3.41752717 3.41752717 4.35889894 4.35889894 5.38516481\n",
      " 5.38516481 6.244998   6.244998   6.80591714 6.80591714]\n"
     ]
    }
   ],
   "source": [
    "eig_value, _ = np.linalg.eig(qr_mat_2)\n",
    "print(np.sort(np.abs(eig_value)))"
   ]
  },
  {
   "cell_type": "markdown",
   "metadata": {},
   "source": [
    "##### This matrix isn't lower triangular. \n",
    "##### QR algorithm doesn't converge in this case, as can be seen from the plot. We know that it happens since 'convergence of QR algorithm is a delicate issue'"
   ]
  },
  {
   "cell_type": "markdown",
   "metadata": {
    "id": "c_8OYe7wOGI-"
   },
   "source": [
    "## Problem 3. (Pseudo-Schur decomposition) 15 pts\n",
    "Let's redefine scalar product $ \\forall x, y \\in \\mathbb{C}^n$ in a following way:\n",
    "\n",
    "$$ [x,y]_J = y^{*}Jx, \\text{s.t.}\\ J = \\text{diag}(j_{11}, j_{22}, \\dots, j_{nn})\\ \\text{and}\\ j_{ii} = \\pm1\\ \\forall i \\in [1,n].$$\n",
    "\n",
    "Denote rows of matrix $V \\in \\mathbb{C}^{n \\times n}$ as $v_1, v_2, \\dots, v_n$. Then $V$ is called $\\textbf{J-orthonormal}$ iff \n",
    "\n",
    "$$[v_i, v_k]_J = \\pm \\delta_{ik}.$$\n",
    "\n",
    "We will call matrix $T \\in \\mathbb{C}^{n \\times n}$ $\\textbf{almost triangular}$ iff $T$ is upper triangular with diagonal blocks of order $1$ or $2$.\n",
    "\n",
    "Matrix $A \\in \\mathbb{C}^{n \\times n}$ is said to be $\\textbf{J-decomposable}$ if exist J-orthonormal matrix $V$ and upper triangular matrix $T$ such that \n",
    "\n",
    "\n",
    "$$A = V T V^{-1}.$$\n",
    "\n",
    "Matrix $A \\in \\mathbb{C}^{n \\times n}$ is said to have $\\textbf{pseudoschur J-decomposition}$ if exist J-orthonormal matrix $V$ and almost triangular matrix $T$ such that\n",
    "\n",
    "\n",
    "$$A = V T V^{-1}.$$\n",
    "\n",
    "This problem is to get familiar with the fact that two abovementioned decompositions exist not for any square matrix with complex entries.\n",
    "\n",
    "\n",
    "\n",
    "\n",
    "- (2 pts) $A$ has pseudoschur J-decomposition $A = V T V^{-1}, \\ \\text{where}\\ V = \\begin{bmatrix} v_1 & v_2 &  \\ldots & v_n \\end{bmatrix}, \\ T = \\begin{bmatrix} T_{ij} \\end{bmatrix}$ and $v_1$ is $\\textbf{not}$ an eigenvector of $A$. Show that $T_{21} \\ne 0$. \n"
   ]
  },
  {
   "cell_type": "markdown",
   "metadata": {},
   "source": [
    "##### Since we know that $v_1$ is not an eigenvector of $A$, therefore:\n",
    "$\\nexists\\ \\lambda: VTV^{-1} v_1 = \\lambda v_1$\n",
    "##### Let's multiply it to $V^{-1}$ to the left:\n",
    "$\\nexists\\ \\lambda: TV^{-1} v_1 = \\lambda V^{-1} v_1$\n",
    "##### From $V^{-1}V = I$ we get that $V^{-1} v_1 = e_1 = (1, 0, ..., 0)^T$\n",
    "##### Then:\n",
    "$\\nexists\\ \\lambda:\n",
    "\\begin{pmatrix}\n",
    "T_{11} && T_{12} && T_{13} && ... && T_{1n} \\\\\n",
    "T_{21} && T_{22} && T_{23} && ... && T_{2n} \\\\\n",
    "0 && T_{32} && T_{33} && ... && T_{3n} \\\\\n",
    "... && ... && ... && ... && ... \\\\\n",
    "0 && 0 && 0 && ... && T_{nn} \\\\\n",
    "\\end{pmatrix}\n",
    "\\begin{pmatrix}\n",
    "1\\\\0\\\\0\\\\...\\\\0\n",
    "\\end{pmatrix} = \n",
    "\\begin{pmatrix}\n",
    "\\lambda\\\\0\\\\0\\\\...\\\\0\n",
    "\\end{pmatrix}$\n",
    "\n",
    "$\\nexists\\ \\lambda:\n",
    "\\begin{pmatrix}\n",
    "T_{11}\\\\T_{21}\\\\0\\\\...\\\\0\n",
    "\\end{pmatrix} = \n",
    "\\begin{pmatrix}\n",
    "\\lambda\\\\0\\\\0\\\\...\\\\0\n",
    "\\end{pmatrix}$\n",
    "##### So we can only avoid this equality if $T_{21} \\neq 0$"
   ]
  },
  {
   "cell_type": "markdown",
   "metadata": {},
   "source": [
    "- (5 pts) Given $J = \\text{diag}(1, -1)$ and $A = \\begin{bmatrix}\n",
    "3   \\ -1\\\\\n",
    "-1\\   \\ 3\\\\\n",
    "\\end{bmatrix}$, prove that $A$ is not J-decomposable.\n"
   ]
  },
  {
   "cell_type": "markdown",
   "metadata": {},
   "source": [
    "##### First, eigenvalues of $A$ are $2$ and $4$ and eigenvectors are $(1, 1)^T$ and $(1, -1)^T$. \n",
    "##### Let's suppose that $A$ is decomposable and express equation with some of its eigenvector $a$ ($a$ is either $(1, 1)^T$ or $(1, -1)^T$):\n",
    "$VTV^{-1} a = \\lambda a$\n",
    "##### Multiply to $V^{-1}$:\n",
    "$TV^{-1}a = \\lambda V^{-1} a$\n",
    "##### So, eigenvalues of $T$ are same as for $A$ and equal to $2$ and $4$. Moreover, its eigenvectors will be equal to corresponding $V^{-1} a$.\n",
    "$T = \\begin{pmatrix}\n",
    "t_1 && t_2\\\\\n",
    "0 && t_3\n",
    "\\end{pmatrix}, \n",
    "t_1 = 2, t_3 = 4 \\text{ or } t_1 = 4, t_3 = 2.$\n",
    "### First way:\n",
    "#### But we also  know that:\n",
    "$det(A) = det(VTV^{-1}) = det(T) = 10$\n",
    "##### But we already know from eigenvalues of $T$ that $det(T) = 8$. We came to contradiction with this decomposition.\n",
    "\n",
    "### Second way:\n",
    "##### For $T$ we get two eigenvectors: $(u, 0)^T, u \\neq 0$, $(\\dfrac{t_2}{2}, 1)^T \\text{ or } (-\\dfrac{t_2}{2}, 1)^T$ depending on the diagonal of $T$. \n",
    "##### For the first eigenvector we have:\n",
    "$V^{-1} = \\begin{pmatrix}\n",
    "u_1 && u_2\\\\\n",
    "u_3 && u_4\n",
    "\\end{pmatrix}, u_3 + u_4 = 0 \\text{ or } u_3 - u_4 = 0$.\n",
    "##### Let us express initial matrix $V$, then:\n",
    "$V^{-1} V = I$\n",
    "\n",
    "$\\begin{pmatrix}\n",
    "u_1\\\\ u_2\n",
    "\\end{pmatrix}\n",
    "\\begin{pmatrix}\n",
    "v_1&& v_2\n",
    "\\end{pmatrix} = I, u_2 = (x, x)^T \\ or\\ (x, -x)^T.$\n",
    "##### Since $(u_2, v_1) = 0, (u_2, v_2) = 1$, then $V$ has one of the following forms:\n",
    "$V = \\begin{pmatrix}\n",
    "a && b\\\\\n",
    "a && b - \\dfrac{1}{x}\n",
    "\\end{pmatrix}$\n",
    "\n",
    "$V = \\begin{pmatrix}\n",
    "a && b\\\\\n",
    "-a && \\dfrac{1}{x} - b\n",
    "\\end{pmatrix}$\n",
    "\n",
    "##### If we use the property of J-orthonormality of rows of $V$, we'll get incompatible system of equations for $a$ and $b$.\n",
    "##### For the first option of $V$ the system is:\n",
    "$a^2 - b^2 = \\pm 1$\n",
    "\n",
    "$a^2 - (b - 1/x)^2 = \\pm 1$\n",
    "\n",
    "$a^2 - b(b - 1/x) = 0$\n",
    "\n",
    "##### There have to be different signs in first two equations, for example, $+$ for the first and $-$ for the second. From these equations we get:\n",
    "$x = \\dfrac{-b \\pm \\sqrt{b^2 + 2}}{2},$\n",
    "##### but from the first and third we obtain $b = -x$.\n",
    "##### So, we cannot find such matrix $V$ to make decomposition $A = VTV^{-1}$ possible."
   ]
  },
  {
   "cell_type": "markdown",
   "metadata": {
    "id": "lAR4dXMOOGI_"
   },
   "source": [
    "- (8 pts) Given that $A \\in \\mathbb{C}^{n \\times n}$ is diagonalizable, show that it has pseudoschur J-decomposition for any $J$ of form $J=\\text{diag}(\\pm 1, \\dots, \\pm 1)$.\n",
    "Note that in order to solve that subproblem you should firstly prove the following fact:\n",
    "\n",
    "    Let $S \\in \\mathbb{C}^{m \\times n},\\ m \\ge n,\\ J = \\text{diag}(\\pm 1).$ If $A = S^{*}JS$ and $det(A) \\ne 0$, then exists QR decomposition of $S$ with respect to $J$: \n",
    "    $$S = P_1 QR P_2^{*} = P_1 Q \\begin{bmatrix} R_1 \\\\ 0 \\end{bmatrix} P_2^{*}, \\ Q^{*} J^{'}Q = J^{'}, \\ J^{'} = P_1^{*}JP_1,$$ where $P_1$ and $P_2$ are permutation matrices, $Q$ is called $J^{'}$- unitary and $R_1$ is almost triangular."
   ]
  },
  {
   "cell_type": "markdown",
   "metadata": {},
   "source": []
  },
  {
   "cell_type": "markdown",
   "metadata": {
    "id": "herV0xZ3OGJB"
   },
   "source": [
    "## Problem 4. (Skeleton decomposition) 28 pts\n",
    "\n",
    "The application that we are particularly interested in is\n",
    "the approximation of a given matrix by a low-rank matrix:\n",
    "\n",
    "$$ A \\approx UV^T, A \\in \\mathbb{R}^{m \\times n}, U \\in \\mathbb{R}^{m \\times r}, V \\in \\mathbb{R}^{n \\times r}.$$\n",
    "\n",
    "It is well known that the best (in any unitary invariant norm) low-rank approximation can be computed via singular value decomposition (SVD). As an alternative, we can consider skeleton decompostion of the form:\n",
    "\n",
    "$$A \\approx A_r = A(: , \\mathcal{J})A(\\mathcal{I} , \\mathcal{J})^{-1}A(\\mathcal{I} , :),$$\n",
    "where $\\mathcal{I,J}$ are some index sets of length $r$."
   ]
  },
  {
   "cell_type": "markdown",
   "metadata": {
    "id": "fK7v5oD4d6zR"
   },
   "source": [
    "Below we consider the matrix $N \\times N$ derived from the following function discretization in the uniform grid in square $[0, 1] \\times [0, 1]$:\n",
    "$ f(x, y) = \\exp(-\\sqrt{x^2 + y^2})$.\n",
    "It means that $A = [a_{ij}]$, where $a_{ij} = f(x_i, x_j)$ and $x_i = i / (N-1)$, $x_j = j / (N-1)$, where $i, j = 0,\\ldots, N-1$.\n",
    "\n",
    "- (2 pts) compose this matrix for $N = 5000$ without loops (Hint: function ```np.meshgrid``` can help you)\n"
   ]
  },
  {
   "cell_type": "code",
   "execution_count": 35,
   "metadata": {},
   "outputs": [],
   "source": [
    "import matplotlib.pyplot as plt\n",
    "%matplotlib inline"
   ]
  },
  {
   "cell_type": "code",
   "execution_count": 36,
   "metadata": {},
   "outputs": [],
   "source": [
    "def f(x, y):\n",
    "    return np.exp(-np.sqrt(x**2 + y**2))"
   ]
  },
  {
   "cell_type": "code",
   "execution_count": 37,
   "metadata": {
    "id": "W6OvG8PJdenP"
   },
   "outputs": [],
   "source": [
    "n = 5000\n",
    "#grid_x = np.arange(0, 1, 5000)\n",
    "grid = np.linspace(0, 1, 5000)\n",
    "xx, yy = np.meshgrid(grid, grid)\n",
    "A = f(xx, yy)"
   ]
  },
  {
   "cell_type": "markdown",
   "metadata": {
    "id": "Rj_OMuY7gvH9"
   },
   "source": [
    "- (3 pts) Compute Skeleton approximation with random selection of rows and columns indices for $r = 5$ (check that submatrix in the intersection of rows and columns is nonsingular). Average the relative error $\\frac{\\|A - A_r \\|_F}{\\|A\\|_F}$ over $M$ samples of column/row indices. Check that $M$ is sufficiently large to provide stable mean.\n",
    "\n",
    " Note: extracting submatrices should be done according to ```numpy```  e.g. ```A[index_set, :]``` to extract selected rows, ```A[:, index_set]``` to extract selected columns etc..\n"
   ]
  },
  {
   "cell_type": "code",
   "execution_count": 38,
   "metadata": {},
   "outputs": [],
   "source": [
    "def is_invertible(a):\n",
    "    return a.shape[0] == a.shape[1] and np.linalg.matrix_rank(a) == a.shape[0]"
   ]
  },
  {
   "cell_type": "code",
   "execution_count": 52,
   "metadata": {
    "id": "Qw4m6q0qjaSr"
   },
   "outputs": [
    {
     "name": "stdout",
     "output_type": "stream",
     "text": [
      "0.051014787191784663\n"
     ]
    }
   ],
   "source": [
    "r = 5\n",
    "M = 100\n",
    "relative_error = np.zeros(M)\n",
    "rel_error = 0.\n",
    "\n",
    "for i in range(M):\n",
    "    is_non_singular = False\n",
    "    while (is_non_singular == False):\n",
    "        indexes = np.random.choice(A.shape[0], size = (r, 2), replace=False)\n",
    "        if (is_invertible(A[indexes[:, 0]][:, indexes[:, 1]])):\n",
    "            is_non_singular = True\n",
    "    A_r = A[:, indexes[:, 1]] @ np.linalg.inv(A[indexes[:, 0]][:, indexes[:, 1]]) @ A[indexes[:, 0], :]\n",
    "    rel_error += np.linalg.norm(A - A_r, ord='fro') / np.linalg.norm(A, ord='fro')\n",
    "    relative_error[i] = rel_error / (i + 1)\n",
    "rel_error /= M\n",
    "print(rel_error)"
   ]
  },
  {
   "cell_type": "code",
   "execution_count": 53,
   "metadata": {},
   "outputs": [
    {
     "data": {
      "image/png": "[encoded data removed]",
      "text/plain": [
       "<Figure size 936x504 with 1 Axes>"
      ]
     },
     "metadata": {
      "needs_background": "light"
     },
     "output_type": "display_data"
    }
   ],
   "source": [
    "plt.figure(figsize = (13,7))\n",
    "plt.plot(range(M), relative_error, lw = 3, color = 'r')\n",
    "plt.xlabel(\"Iteration\")\n",
    "plt.ylabel(\"Average relative error for iteration less than n\")\n",
    "plt.title(\"Moving average of the relative error\")\n",
    "plt.grid(True)\n",
    "plt.show()"
   ]
  },
  {
   "cell_type": "code",
   "execution_count": 56,
   "metadata": {},
   "outputs": [
    {
     "name": "stdout",
     "output_type": "stream",
     "text": [
      "0.046970576865664665\n"
     ]
    }
   ],
   "source": [
    "r = 5\n",
    "M = 300\n",
    "relative_error = 0.\n",
    "for i in range(M):\n",
    "    is_non_singular = False\n",
    "    while (is_non_singular == False):\n",
    "        indexes = np.random.choice(A.shape[0], size = (r, 2), replace=False)\n",
    "        if (is_invertible(A[indexes[:, 0]][:, indexes[:, 1]])):\n",
    "            is_non_singular = True\n",
    "    A_r = A[:, indexes[:, 1]] @ np.linalg.inv(A[indexes[:, 0]][:, indexes[:, 1]]) @ A[indexes[:, 0], :]\n",
    "    relative_error += np.linalg.norm(A - A_r, ord='fro') / np.linalg.norm(A, ord='fro')\n",
    "relative_error /= M\n",
    "print(relative_error)"
   ]
  },
  {
   "cell_type": "markdown",
   "metadata": {
    "id": "lwP2qdOCkTBo"
   },
   "source": [
    "As you should know from the lecture, if $A$ is of rank $r$ and $\\hat{A} = A(\\mathcal{I} , \\mathcal{J})$ is nonsingular, then the exact equality holds. In the approximate case, however, the quality of the approximation depends on the volume of the submatrix $\\hat{A}$: \n",
    "\n",
    "**Theorem**\n",
    "\n",
    "*If $\\hat{A} = A_{max}$ has maximal in modulus determinant among all $r \\times r$ submatrices of $A$, the following error etimate holds:*\n",
    "\n",
    "$$ \\|A - A_r\\|_1 \\leq (r+1)\\sigma_{r+1}.$$\n",
    "\n",
    "\n",
    "And the question is how to choose a good submatrix of nearly maximal volume in practice.\n",
    "\n",
    "**Definition**: *We call $r \\times r$ submatrix $A_{dom}$ of rectangular $n \\times r$ matrix $A$ of\n",
    "full rank dominant, if all the entries of $AA_{dom}^{-1}$ are not greater than $1$ in\n",
    "modulus.*\n",
    "\n",
    "The crucial theoretical result behind the scene is that the volume of any dominant submatrix $A_{dom}$ can not be very much smaller than the maximum volume submatrix $A_{max}$ (without proof).\n",
    "\n",
    "We provide the following algorithm for constructing dominant submatrix of a tall matrix.\n",
    "\n",
    "**Algorithm 1**: \n",
    "    \n",
    "Given matrix $A$ of size $n \\times r$ finds dominant submatrix of size $r \\times r$\n",
    "\n",
    "__step 0.__ Start with arbitrary nonsingular $r \\times r$ submatrix $A_{dom}$. Reorder rows in $A$ so that $A_{dom}$ occupies first $r$ rows in $A$.\n",
    "\n",
    "__step 1.__ Compute $B = AA_{dom}^{-1}$ and find its maximum in module  entry $b_{ij}$.\n",
    "\n",
    "__step 2.__ **If $|b_{ij}| > 1 + \\delta$, then**:\n",
    "\n",
    "Swap rows $i$ and $j$ in $B$ (accrodignly in A). By swapping the rows we have increased the volume of the upper submatrix in $B$, as well as in $A$ (why?). Let $A_{dom}$ be the new upper submatrix of $A$ and go to __step 1__.\n",
    "\n",
    "**elseif $|b_{ij}| < 1 + \\delta$**:\n",
    "\n",
    "return $A_{dom}$.\n",
    "\n",
    "Note: $\\delta = 10^{-2}$ seems to be a good practical choice."
   ]
  },
  {
   "cell_type": "markdown",
   "metadata": {
    "id": "v68vVZrJnryX"
   },
   "source": [
    "- (10 pts) Implement algorithm 1 according to the following signature, where the function returns ```row_indices``` array which can be used as ```A[row_indices, :]``` to extract selected submatrix.\n",
    "\n",
    "Note that matrix inverse $A_{dom}^{-1}$ in step 3 has to be updated efficiently using [Shermann-Morison formula](https://en.wikipedia.org/wiki/Sherman%E2%80%93Morrison_formula) (inverse of rank-1 update)."
   ]
  },
  {
   "cell_type": "code",
   "execution_count": 57,
   "metadata": {},
   "outputs": [],
   "source": [
    "def Sherman_Morrison(A, u, v):\n",
    "    return A - (A @ u @ v.T @ A) / (1 + v.T @ A @ u)"
   ]
  },
  {
   "cell_type": "code",
   "execution_count": 205,
   "metadata": {
    "id": "YTSbyzAKkUEP"
   },
   "outputs": [],
   "source": [
    "def dominant_submatrix_search(A):\n",
    "    n, r = A.shape[0], A.shape[1]\n",
    "    is_non_singular = False\n",
    "    while (is_non_singular == False):\n",
    "        indices = np.random.choice(n, size = r, replace=False)\n",
    "        A_dom = A[indices]\n",
    "        if (is_invertible(A_dom)):\n",
    "            is_non_singular = True\n",
    "    \n",
    "    #complement_index = np.delete(np.arange(0, A.shape[0]), row_indices)\n",
    "    row_indices = np.hstack((indices, np.delete(np.arange(0, A.shape[0]), indices)))\n",
    "    #a_1 = A[complement_index]\n",
    "    #A[:r] = A_dom\n",
    "    #A[r:] = a_1\n",
    "    A_dom_inv = np.linalg.inv(A_dom)\n",
    "    iter_ = 0\n",
    "    delta = 1\n",
    "    while (delta > 0.01):\n",
    "        B = A[row_indices] @ A_dom_inv\n",
    "        b_max = np.abs(B).max()\n",
    "        index_b_max = np.abs(B).argmax()\n",
    "        i, j = index_b_max//r, index_b_max % r\n",
    "        delta = np.abs(b_max) - 1\n",
    "        \n",
    "        e_j = np.eye(r, 1, -j)\n",
    "        swap_ij = A[row_indices[i]] - A[row_indices[j]]\n",
    "        swap_ij = swap_ij.reshape(r, 1)\n",
    "        A_dom_inv = Sherman_Morrison(A_dom_inv, e_j, swap_ij)\n",
    "        row_indices[[i, j]] = row_indices[[j, i]]\n",
    "        #print(\"Iteration\", iter_, \"delta:\", delta)\n",
    "        #iter_ += 1\n",
    "        \n",
    "    return row_indices #row_indices[:r]"
   ]
  },
  {
   "cell_type": "code",
   "execution_count": 178,
   "metadata": {
    "id": "0DGuKmqLoUAi"
   },
   "outputs": [
    {
     "name": "stdout",
     "output_type": "stream",
     "text": [
      "Iteration 0 delta: 2.4885311710602975\n",
      "Iteration 1 delta: 1.2198408279623987\n",
      "Iteration 2 delta: 1.061529328859589\n",
      "Iteration 3 delta: 1.014308531146309\n",
      "Iteration 4 delta: 0.7486604034307154\n",
      "Iteration 5 delta: 0.5581136479200877\n",
      "Iteration 6 delta: 0.44431922326331663\n",
      "Iteration 7 delta: 0.3197327615775385\n",
      "Iteration 8 delta: 0.2008026773447087\n",
      "Iteration 9 delta: 0.022285456710226637\n",
      "Iteration 10 delta: 0.011219643434334792\n",
      "Iteration 11 delta: 4.440892098500626e-16\n"
     ]
    }
   ],
   "source": [
    "# check the convergence of your implementation on random data\n",
    "r = 10\n",
    "A_rand = np.random.rand(5000, r)\n",
    "row_indices = dominant_submatrix_search(A_rand)"
   ]
  },
  {
   "cell_type": "markdown",
   "metadata": {
    "id": "zVIzSkvaqwDm"
   },
   "source": [
    "- (10 pts) Propose the method to construct Skeleton approximation using Algorithm 1. The signature of the function is provided below.  Compare your algorithm with previously considered random selection on the matrix $A$.\n",
    "\n",
    "Hint: \n",
    "\n",
    "1) start with random selection of columns \n",
    "\n",
    "2) if you transpose the matrix for which you find rows, then Algorithm 1 will give you update for columns in the initial matrix"
   ]
  },
  {
   "cell_type": "code",
   "execution_count": 238,
   "metadata": {
    "id": "AbJRXIJNrbNz"
   },
   "outputs": [],
   "source": [
    "def skeleton(A, r):\n",
    "    N = A.shape[0]\n",
    "    is_not_singular = False\n",
    "    while (is_not_singular == False):\n",
    "        row_indices = np.random.choice(N, size = r, replace=False)\n",
    "        if (np.linalg.matrix_rank(A[row_indices]) == r):\n",
    "            is_not_singular = True  \n",
    "    #for _ in range(20): \n",
    "    column_indices = row_indices\n",
    "    row_indices = dominant_submatrix_search(A[:, column_indices])\n",
    "    row_indices = row_indices[:r]\n",
    "    return row_indices, column_indices"
   ]
  },
  {
   "cell_type": "markdown",
   "metadata": {
    "id": "hF8a5rTSs8Ie"
   },
   "source": [
    "- (3 pts) Compare your ```skeleton``` approximation algorithm with SVD and discuss its pros and cons."
   ]
  },
  {
   "cell_type": "code",
   "execution_count": 239,
   "metadata": {},
   "outputs": [
    {
     "name": "stdout",
     "output_type": "stream",
     "text": [
      "19 ms ± 5.6 ms per loop (mean ± std. dev. of 7 runs, 10 loops each)\n",
      "0.000686248075780763\n"
     ]
    }
   ],
   "source": [
    "A_rand = np.random.rand(1000, 1000)\n",
    "row_indices, column_indices = skeleton(A_rand, r=5)\n",
    "A_r = A_rand[:, column_indices] @ np.linalg.inv(A_rand[row_indices][:, column_indices]) @ A_rand[row_indices, :]\n",
    "%timeit skeleton(A_rand, r=5)\n",
    "print(np.linalg.norm(A_rand - A_r, ord='fro') / np.linalg.norm(A_rand, ord='fro'))"
   ]
  },
  {
   "cell_type": "code",
   "execution_count": 237,
   "metadata": {},
   "outputs": [
    {
     "name": "stdout",
     "output_type": "stream",
     "text": [
      "7.27 s ± 575 ms per loop (mean ± std. dev. of 7 runs, 1 loop each)\n",
      "2.500837613585371e-15\n"
     ]
    }
   ],
   "source": [
    "U, S, V = np.linalg.svd(A_rand)\n",
    "%timeit np.linalg.svd(A_rand)\n",
    "print(np.linalg.norm(A_rand - U @ np.diag(S) @ V, ord='fro') / np.linalg.norm(A_rand, ord='fro'))"
   ]
  },
  {
   "cell_type": "markdown",
   "metadata": {
    "id": "kgld0FW_r2xP"
   },
   "source": [
    "##### Skeleton approximation isn't precise, so it has some lost of accuracy, whereas SVD is precise and the accuracy is very high in this case.\n",
    "##### But Skeleton works much faster and this gap in time performance significantly increases with enlarginf of size of matrix.\n",
    "##### We can also notice that obvious fact that choice of dominant submatrix gives far more stable approximation than random choice of indices."
   ]
  }
 ],
 "metadata": {
  "colab": {
   "collapsed_sections": [],
   "name": "PS2.ipynb",
   "provenance": []
  },
  "kernelspec": {
   "display_name": "Python 3",
   "language": "python",
   "name": "python3"
  },
  "language_info": {
   "codemirror_mode": {
    "name": "ipython",
    "version": 3
   },
   "file_extension": ".py",
   "mimetype": "text/x-python",
   "name": "python",
   "nbconvert_exporter": "python",
   "pygments_lexer": "ipython3",
   "version": "3.7.0"
  }
 },
 "nbformat": 4,
 "nbformat_minor": 1
}
